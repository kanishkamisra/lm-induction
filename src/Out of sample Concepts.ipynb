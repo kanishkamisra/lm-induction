{
 "cells": [
  {
   "cell_type": "code",
   "execution_count": 1,
   "id": "21e6bcad",
   "metadata": {},
   "outputs": [],
   "source": [
    "import csv\n",
    "import os\n",
    "import random\n",
    "import torch\n",
    "\n",
    "from reasoner import Reasoner\n",
    "from world import World\n",
    "\n",
    "from collections import defaultdict\n",
    "from torch.utils.data import DataLoader\n",
    "from transformers import AutoModelForSequenceClassification, AutoTokenizer\n",
    "from tqdm import tqdm"
   ]
  },
  {
   "cell_type": "code",
   "execution_count": 2,
   "id": "083e883d",
   "metadata": {},
   "outputs": [],
   "source": [
    "os.environ['TOKENIZERS_PARALLELISM'] = 'False'"
   ]
  },
  {
   "cell_type": "code",
   "execution_count": 3,
   "id": "938f2710",
   "metadata": {},
   "outputs": [
    {
     "name": "stderr",
     "output_type": "stream",
     "text": [
      "521it [00:00, 4727.87it/s]\n"
     ]
    }
   ],
   "source": [
    "random.seed(42)\n",
    "torch.manual_seed(42)\n",
    "\n",
    "world = World(concept_path = \"../../induction/data/concept_senses.csv\", \n",
    "              feature_path = '../../induction/data/post_annotation_data/post_annotation_all.csv', \n",
    "              matrix_path = \"../../induction/data/concept_matrix.txt\")\n",
    "world.create()"
   ]
  },
  {
   "cell_type": "code",
   "execution_count": 4,
   "id": "4f5e2b9d",
   "metadata": {},
   "outputs": [],
   "source": [
    "class PropertyJudge:\n",
    "    def __init__(self, model_path, device='cpu'):\n",
    "        self.model = AutoModelForSequenceClassification.from_pretrained(model_path)\n",
    "        self.tokenizer = AutoTokenizer.from_pretrained(model_path)\n",
    "        self.device = device\n",
    "        \n",
    "        self.model.to(self.device)\n",
    "        self.model.eval()\n",
    "        \n",
    "    def tokenize(self, batch):\n",
    "        return self.tokenizer(batch, padding=True, return_tensors='pt').to(self.device)\n",
    "        \n",
    "    def infer(self, batch):\n",
    "        with torch.no_grad():\n",
    "            logits = self.model(**batch).logits.detach()\n",
    "            logprob = logits - logits.logsumexp(1).unsqueeze(1)\n",
    "\n",
    "            predicted_labels = logprob.argmax(1).tolist()\n",
    "        \n",
    "        return predicted_labels\n",
    "    \n",
    "    def truth(self, batch):\n",
    "        with torch.no_grad():\n",
    "            logits = self.model(**batch).logits.detach()\n",
    "            logprob = logits - logits.logsumexp(1).unsqueeze(1)\n",
    "            logprob_true = logprob[:, 1].exp().tolist()\n",
    "            \n",
    "        return logprob_true"
   ]
  },
  {
   "cell_type": "code",
   "execution_count": 5,
   "id": "d791e7b2",
   "metadata": {},
   "outputs": [],
   "source": [
    "MODEL = 'rl-property'\n",
    "PATH = f'../../induction/checkpoints/finetuned_models/{MODEL}'"
   ]
  },
  {
   "cell_type": "code",
   "execution_count": 6,
   "id": "00c347a5",
   "metadata": {},
   "outputs": [],
   "source": [
    "chimp = [f\"a chimp {prop}.\" for prop in world.features]"
   ]
  },
  {
   "cell_type": "code",
   "execution_count": 7,
   "id": "f2b137d7",
   "metadata": {},
   "outputs": [],
   "source": [
    "chimp_dl = DataLoader(chimp, batch_size = 32, num_workers = 16)"
   ]
  },
  {
   "cell_type": "code",
   "execution_count": 8,
   "id": "b161c971",
   "metadata": {},
   "outputs": [],
   "source": [
    "propjudge = PropertyJudge(PATH, 'cuda:0')"
   ]
  },
  {
   "cell_type": "code",
   "execution_count": 9,
   "id": "11cbb31d",
   "metadata": {},
   "outputs": [
    {
     "name": "stderr",
     "output_type": "stream",
     "text": [
      "100%|███████████████████████████████████████████████████████████████████████████| 117/117 [00:02<00:00, 45.73it/s]\n"
     ]
    }
   ],
   "source": [
    "logprobs = []\n",
    "sentences = []\n",
    "for batch in tqdm(chimp_dl):\n",
    "    sentences.extend(batch)\n",
    "    encoded = propjudge.tokenize(list(batch))\n",
    "    logprob = propjudge.truth(encoded)\n",
    "    logprobs.extend(logprob)\n",
    "    "
   ]
  },
  {
   "cell_type": "code",
   "execution_count": 10,
   "id": "149dde73",
   "metadata": {},
   "outputs": [],
   "source": [
    "true_idx = (torch.tensor(logprobs) >= 0.5).nonzero().squeeze(1)"
   ]
  },
  {
   "cell_type": "code",
   "execution_count": 12,
   "id": "950f796e",
   "metadata": {},
   "outputs": [
    {
     "data": {
      "text/plain": [
       "1069"
      ]
     },
     "execution_count": 12,
     "metadata": {},
     "output_type": "execute_result"
    }
   ],
   "source": [
    "len(true_idx)"
   ]
  },
  {
   "cell_type": "code",
   "execution_count": 11,
   "id": "d8a00354",
   "metadata": {},
   "outputs": [
    {
     "data": {
      "text/plain": [
       "tensor([0.6836, 0.8849, 0.5346,  ..., 0.6708, 0.6775, 0.9713])"
      ]
     },
     "execution_count": 11,
     "metadata": {},
     "output_type": "execute_result"
    }
   ],
   "source": [
    "torch.tensor(logprobs)[true_idx]"
   ]
  },
  {
   "cell_type": "code",
   "execution_count": 13,
   "id": "19651238",
   "metadata": {},
   "outputs": [],
   "source": [
    "sorted_probs = torch.tensor(logprobs).sort(descending = True)"
   ]
  },
  {
   "cell_type": "code",
   "execution_count": 14,
   "id": "de147ef8",
   "metadata": {},
   "outputs": [],
   "source": [
    "values, idx = sorted_probs\n",
    "values, idx = [x.tolist() for x in [values, idx]]"
   ]
  },
  {
   "cell_type": "code",
   "execution_count": 15,
   "id": "f3512476",
   "metadata": {},
   "outputs": [],
   "source": [
    "inferences = [(sentences[i], v) for i, v in zip(idx, values)]"
   ]
  },
  {
   "cell_type": "code",
   "execution_count": null,
   "id": "625edfaa",
   "metadata": {},
   "outputs": [],
   "source": []
  }
 ],
 "metadata": {
  "kernelspec": {
   "display_name": "Python 3 (ipykernel)",
   "language": "python",
   "name": "python3"
  },
  "language_info": {
   "codemirror_mode": {
    "name": "ipython",
    "version": 3
   },
   "file_extension": ".py",
   "mimetype": "text/x-python",
   "name": "python",
   "nbconvert_exporter": "python",
   "pygments_lexer": "ipython3",
   "version": "3.8.12"
  }
 },
 "nbformat": 4,
 "nbformat_minor": 5
}
