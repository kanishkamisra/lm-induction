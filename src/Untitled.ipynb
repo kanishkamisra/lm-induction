{
 "cells": [
  {
   "cell_type": "code",
   "execution_count": 13,
   "id": "b306bf7f",
   "metadata": {},
   "outputs": [],
   "source": [
    "import csv\n",
    "import random\n",
    "import torch\n",
    "\n",
    "from reasoner import Reasoner\n",
    "from world import World\n",
    "\n",
    "from collections import defaultdict\n",
    "from tqdm import tqdm"
   ]
  },
  {
   "cell_type": "code",
   "execution_count": 14,
   "id": "b3039a01",
   "metadata": {},
   "outputs": [
    {
     "name": "stderr",
     "output_type": "stream",
     "text": [
      "521it [00:00, 6553.82it/s]\n"
     ]
    }
   ],
   "source": [
    "random.seed(42)\n",
    "torch.manual_seed(42)\n",
    "\n",
    "model_lr = {\n",
    "    'rl-property': 2.5074850299401197e-06,\n",
    "    'bl-property': 2.508483033932136e-06,\n",
    "    'axxl-property': 3.0054890219560877e-06,\n",
    "}\n",
    "\n",
    "negative_sampler = {\n",
    "    'axxl-property': '../../induction/checkpoints/finetuned_models/axxl-property',\n",
    "    'bl-property': '../../induction/checkpoints/finetuned_models/bl-property',\n",
    "    'rl-property': '../../induction/checkpoints/finetuned_models/rl-property',\n",
    "}\n",
    "\n",
    "world = World(concept_path = \"../data/concept_senses.csv\", \n",
    "             feature_path = '../data/experimental splits/train_1ns.csv', \n",
    "             matrix_path = \"../data/train_1ns_matrix.txt\")\n",
    "world.create()"
   ]
  },
  {
   "cell_type": "code",
   "execution_count": 15,
   "id": "703927ba",
   "metadata": {},
   "outputs": [],
   "source": [
    "stimuli = []\n",
    "with open('../../induction/data/osherson_three_general.csv', 'r') as f:\n",
    "    reader = csv.reader(f)\n",
    "    next(f)\n",
    "    for line in reader:\n",
    "        premise, conclusion, strength = line\n",
    "#         if 'chimp' not in premise:\n",
    "        premise_concepts = list(map(lambda x: x.strip(), premise.split(\",\")))\n",
    "#         conclusion_concepts = [conclusion]\n",
    "        conclusion_concepts = world.taxonomy['mammal.n.01'].descendants() + ['chimp']\n",
    "#         conclusion_concepts = list(set(world.taxonomy['mammal.n.01'].descendants()) - set(premise_concepts))\n",
    "\n",
    "        stimuli.append([premise_concepts, conclusion_concepts, strength])"
   ]
  },
  {
   "cell_type": "code",
   "execution_count": 16,
   "id": "8669c43c",
   "metadata": {},
   "outputs": [],
   "source": [
    "stimuli = []\n",
    "with open('../../induction/data/osherson_two_specific.csv', 'r') as f:\n",
    "    reader = csv.reader(f)\n",
    "    next(f)\n",
    "    for line in reader:\n",
    "        premise, conclusion, strength = line\n",
    "#         if 'chimp' not in premise:\n",
    "        premise_concepts = list(map(lambda x: x.strip(), premise.split(\",\")))\n",
    "        conclusion_concepts = [conclusion]\n",
    "#         conclusion_concepts = world.taxonomy['mammal.n.01'].descendants() + ['chimp']\n",
    "#         conclusion_concepts = list(set(world.taxonomy['mammal.n.01'].descendants()) - set(premise_concepts))\n",
    "\n",
    "        stimuli.append([premise_concepts, conclusion_concepts, strength])"
   ]
  },
  {
   "cell_type": "code",
   "execution_count": 17,
   "id": "6159b9b0",
   "metadata": {},
   "outputs": [],
   "source": [
    "PROPERTIES = ['can dax', 'can fep', 'is vorpal', 'is mimsy', 'has blickets', 'has feps', 'is a wug', 'is a tove']\n",
    "MODELS = ['axxl-property', 'bl-property', 'rl-property']\n",
    "DEVICE = 'cuda:0'"
   ]
  },
  {
   "cell_type": "code",
   "execution_count": 18,
   "id": "0a4bf6aa",
   "metadata": {},
   "outputs": [
    {
     "name": "stderr",
     "output_type": "stream",
     "text": [
      "100%|█████████████████████████████████████████████████████████████████████████████| 36/36 [01:57<00:00,  3.26s/it]\n",
      "100%|█████████████████████████████████████████████████████████████████████████████| 36/36 [01:42<00:00,  2.86s/it]\n",
      "100%|█████████████████████████████████████████████████████████████████████████████| 36/36 [01:49<00:00,  3.04s/it]\n"
     ]
    }
   ],
   "source": [
    "results = defaultdict(list)\n",
    "prop = 'requires biotin for synthesizing hemoglobin'\n",
    "# prop = 'can dax'\n",
    "\n",
    "\n",
    "for MODEL in MODELS:\n",
    "    for stimulus in tqdm(stimuli):\n",
    "        premise_concepts, conclusion_concepts, strength = stimulus\n",
    "        \n",
    "        reasoner = Reasoner(f'../../induction/checkpoints/finetuned_models/{MODEL}',\n",
    "                        learning_rate = model_lr[MODEL], \n",
    "                        lexicon = world.lexicon,\n",
    "                        device = DEVICE)\n",
    "        \n",
    "        adaptation = [f'{world.lexicon[c].article} {prop}.' if c in world.concepts else f'a {c} {prop}.' for c in premise_concepts]\n",
    "        adaptation = reasoner.tokenizer(adaptation, return_tensors='pt', padding=True)\n",
    "        \n",
    "#         generalization = reasoner.prepare_stimuli(conclusion_concepts, prop)\n",
    "#         generalization = [f'a mammal {prop}.']\n",
    "        generalization = [f'{world.lexicon[c].article} {prop}.' if c in world.concepts else f'a {c} {prop}.' for c in conclusion_concepts]\n",
    "        generalization = reasoner.tokenizer(generalization, return_tensors='pt', padding=True)\n",
    "        \n",
    "        labels = torch.tensor([1] * len(premise_concepts))\n",
    "        \n",
    "        reasoner.adapt(adaptation, labels, 20, 'not')\n",
    "        \n",
    "        gen_logprob = reasoner.generalize(generalization)[:, 1].mean().item()\n",
    "        reasoner.model.to('cpu')\n",
    "        \n",
    "        results[MODEL].append([gen_logprob, float(strength)])"
   ]
  },
  {
   "cell_type": "code",
   "execution_count": 19,
   "id": "337e8fb7",
   "metadata": {},
   "outputs": [],
   "source": [
    "from scipy import stats"
   ]
  },
  {
   "cell_type": "code",
   "execution_count": 21,
   "id": "1a5da519",
   "metadata": {},
   "outputs": [
    {
     "name": "stdout",
     "output_type": "stream",
     "text": [
      "axxl-property: r: 0.5431, p-value: 0.0006\n",
      "bl-property: r: 0.2486, p-value: 0.1437\n",
      "rl-property: r: 0.5220, p-value: 0.0011\n"
     ]
    }
   ],
   "source": [
    "for MODEL in MODELS:\n",
    "    score, strength = list(zip(*results[MODEL]))\n",
    "    r, p = stats.spearmanr(score, strength)\n",
    "    print(f\"{MODEL}: r: {r:.4f}, p-value: {p:.4f}\")"
   ]
  },
  {
   "cell_type": "code",
   "execution_count": 5,
   "id": "7e6820bf",
   "metadata": {},
   "outputs": [],
   "source": [
    "MODEL = 'axxl-property'\n",
    "reasoner = Reasoner(f'../../induction/checkpoints/finetuned_models/{MODEL}',\n",
    "                    learning_rate = model_lr[MODEL], \n",
    "                    lexicon = world.lexicon,\n",
    "                    device = DEVICE)"
   ]
  },
  {
   "cell_type": "code",
   "execution_count": 6,
   "id": "4e729a66",
   "metadata": {},
   "outputs": [],
   "source": [
    "# query = ['butterfly', 'sparrow', 'emu', 'ostrich', 'lion', 'airplane', 'helicopter', 'car']\n",
    "query = [c for c in world.taxonomy['bird.n.01'].descendants() if c not in positive]"
   ]
  },
  {
   "cell_type": "code",
   "execution_count": 10,
   "id": "a3cbe209",
   "metadata": {},
   "outputs": [
    {
     "data": {
      "text/plain": [
       "['budgie',\n",
       " 'parakeet',\n",
       " 'buzzard',\n",
       " 'falcon',\n",
       " 'hawk',\n",
       " 'eagle',\n",
       " 'owl',\n",
       " 'canary',\n",
       " 'magpie',\n",
       " 'raven',\n",
       " 'nightingale',\n",
       " 'robin',\n",
       " 'starling',\n",
       " 'wren',\n",
       " 'chicken',\n",
       " 'cockerel',\n",
       " 'turkey',\n",
       " 'dove',\n",
       " 'pigeon',\n",
       " 'partridge',\n",
       " 'peacock',\n",
       " 'crane',\n",
       " 'flamingo',\n",
       " 'heron',\n",
       " 'duck',\n",
       " 'goose',\n",
       " 'pelican',\n",
       " 'penguin',\n",
       " 'seagull',\n",
       " 'swan',\n",
       " 'hummingbird',\n",
       " 'kingfisher',\n",
       " 'woodpecker',\n",
       " 'emu',\n",
       " 'ostrich']"
      ]
     },
     "execution_count": 10,
     "metadata": {},
     "output_type": "execute_result"
    }
   ],
   "source": [
    "query"
   ]
  },
  {
   "cell_type": "code",
   "execution_count": 7,
   "id": "c16204ef",
   "metadata": {},
   "outputs": [],
   "source": [
    "prop = 'is able to fep'\n",
    "adaptation = reasoner.prepare_stimuli(positive+negative, prop)\n",
    "labels = torch.tensor([1] * len(positive) + [0] * len(negative))\n",
    "# labels = torch.tensor([1] * len(positive))\n",
    "\n",
    "generalization = reasoner.prepare_stimuli(query, prop)"
   ]
  },
  {
   "cell_type": "code",
   "execution_count": 8,
   "id": "cb5b0858",
   "metadata": {},
   "outputs": [],
   "source": [
    "reasoner.adapt(adaptation, labels, 20)"
   ]
  },
  {
   "cell_type": "code",
   "execution_count": 17,
   "id": "646cb9b6",
   "metadata": {},
   "outputs": [
    {
     "data": {
      "text/plain": [
       "torch.return_types.topk(\n",
       "values=tensor([0.6973, 0.6070, 0.4432, 0.4406, 0.4169, 0.4019, 0.3945, 0.3903, 0.3777,\n",
       "        0.3736]),\n",
       "indices=tensor([ 6, 30,  5, 34, 33,  1, 29,  2, 22,  4]))"
      ]
     },
     "execution_count": 17,
     "metadata": {},
     "output_type": "execute_result"
    }
   ],
   "source": [
    "(-1.0 * reasoner.generalize(generalization)[:, 1]).topk(10)"
   ]
  },
  {
   "cell_type": "code",
   "execution_count": 22,
   "id": "423e651f",
   "metadata": {},
   "outputs": [
    {
     "data": {
      "text/plain": [
       "1"
      ]
     },
     "execution_count": 22,
     "metadata": {},
     "output_type": "execute_result"
    }
   ],
   "source": [
    "reasoner.stopping_epoch"
   ]
  },
  {
   "cell_type": "code",
   "execution_count": 9,
   "id": "fda3d0e2",
   "metadata": {},
   "outputs": [
    {
     "data": {
      "text/plain": [
       "0"
      ]
     },
     "execution_count": 9,
     "metadata": {},
     "output_type": "execute_result"
    }
   ],
   "source": [
    "len([])"
   ]
  },
  {
   "cell_type": "code",
   "execution_count": 23,
   "id": "8ec390a1",
   "metadata": {},
   "outputs": [
    {
     "data": {
      "text/plain": [
       "'parakeet'"
      ]
     },
     "execution_count": 23,
     "metadata": {},
     "output_type": "execute_result"
    }
   ],
   "source": [
    "query[1]"
   ]
  },
  {
   "cell_type": "code",
   "execution_count": null,
   "id": "57c8a122",
   "metadata": {},
   "outputs": [],
   "source": [
    "world.f"
   ]
  }
 ],
 "metadata": {
  "kernelspec": {
   "display_name": "Python 3 (ipykernel)",
   "language": "python",
   "name": "python3"
  },
  "language_info": {
   "codemirror_mode": {
    "name": "ipython",
    "version": 3
   },
   "file_extension": ".py",
   "mimetype": "text/x-python",
   "name": "python",
   "nbconvert_exporter": "python",
   "pygments_lexer": "ipython3",
   "version": "3.8.12"
  }
 },
 "nbformat": 4,
 "nbformat_minor": 5
}
