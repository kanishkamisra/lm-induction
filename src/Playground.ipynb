{
 "cells": [
  {
   "cell_type": "code",
   "execution_count": 19,
   "id": "1632aeb5",
   "metadata": {},
   "outputs": [],
   "source": [
    "import csv\n",
    "import random\n",
    "import torch\n",
    "\n",
    "from reasoner import Reasoner\n",
    "from world import World\n",
    "\n",
    "from collections import defaultdict\n",
    "from tqdm import tqdm"
   ]
  },
  {
   "cell_type": "code",
   "execution_count": 2,
   "id": "4678bf19",
   "metadata": {},
   "outputs": [
    {
     "name": "stderr",
     "output_type": "stream",
     "text": [
      "521it [00:00, 6725.80it/s]\n"
     ]
    }
   ],
   "source": [
    "random.seed(42)\n",
    "torch.manual_seed(42)\n",
    "\n",
    "model_lr = {\n",
    "    'rl-property': 2.5074850299401197e-06,\n",
    "    'bl-property': 2.508483033932136e-06,\n",
    "    'axxl-property': 3.0054890219560877e-06,\n",
    "}\n",
    "\n",
    "negative_sampler = {\n",
    "    'axxl-property': '../../induction/checkpoints/finetuned_models/axxl-property',\n",
    "    'bl-property': '../../induction/checkpoints/finetuned_models/bl-property',\n",
    "    'rl-property': '../../induction/checkpoints/finetuned_models/rl-property',\n",
    "}\n",
    "\n",
    "world = World(concept_path = \"../data/concept_senses.csv\", \n",
    "             feature_path = '../data/experimental splits/train_1ns.csv', \n",
    "             matrix_path = \"../data/train_1ns_matrix.txt\")\n",
    "world.create()"
   ]
  },
  {
   "cell_type": "code",
   "execution_count": 3,
   "id": "00aebda4",
   "metadata": {},
   "outputs": [],
   "source": [
    "PROPERTIES = ['can dax', 'can fep', 'is vorpal', 'is mimsy', 'has blickets', 'has feps', 'is a wug', 'is a tove']"
   ]
  },
  {
   "cell_type": "code",
   "execution_count": 4,
   "id": "af929577",
   "metadata": {},
   "outputs": [],
   "source": [
    "MODELS = ['axxl-property', 'bl-property', 'rl-property']\n",
    "DEVICE = 'cuda:0'"
   ]
  },
  {
   "cell_type": "code",
   "execution_count": 5,
   "id": "d10f59ce",
   "metadata": {},
   "outputs": [],
   "source": [
    "categories = ['bird.n.01', 'mammal.n.01', 'reptile.n.01', 'fish.n.01', 'insect.n.01', 'mollusk.n.01']\n",
    "\n",
    "candidates = []\n",
    "for cat in categories:\n",
    "    descendants = world.taxonomy[cat].descendants()\n",
    "    for concept in descendants:\n",
    "        negatives = set(categories) - set([cat])\n",
    "        positive = [c for c in world.taxonomy[cat].descendants() if c != concept]\n",
    "        for cn in negatives:\n",
    "            negative = [c for c in world.taxonomy[cn].descendants()]\n",
    "\n",
    "            sim_p = world.similarity([concept], positive).mean().item()\n",
    "            sim_n = world.similarity([concept], negative).mean().item()\n",
    "\n",
    "            if sim_n > sim_p:\n",
    "                candidates.append((concept, cat, cn))"
   ]
  },
  {
   "cell_type": "code",
   "execution_count": 6,
   "id": "eaa0afb6",
   "metadata": {},
   "outputs": [
    {
     "data": {
      "text/plain": [
       "[('hippo', 'mammal.n.01', 'reptile.n.01'),\n",
       " ('dolphin', 'mammal.n.01', 'fish.n.01'),\n",
       " ('whale', 'mammal.n.01', 'fish.n.01'),\n",
       " ('turtle', 'reptile.n.01', 'fish.n.01'),\n",
       " ('slug', 'mollusk.n.01', 'insect.n.01'),\n",
       " ('snail', 'mollusk.n.01', 'insect.n.01')]"
      ]
     },
     "execution_count": 6,
     "metadata": {},
     "output_type": "execute_result"
    }
   ],
   "source": [
    "candidates"
   ]
  },
  {
   "cell_type": "code",
   "execution_count": 7,
   "id": "c2375fda",
   "metadata": {},
   "outputs": [],
   "source": [
    "random.seed(42)\n",
    "\n",
    "stimuli = []\n",
    "for concept, p, n in candidates:\n",
    "    negative = world.taxonomy[n].descendants()\n",
    "    positive = [c for c in world.taxonomy[p].descendants() if c != concept]\n",
    "#     positive = random.sample(positive, min(len(positive), len(negative)))\n",
    "    \n",
    "    stimuli.append([concept, positive, negative])"
   ]
  },
  {
   "cell_type": "code",
   "execution_count": 8,
   "id": "b46bb4be",
   "metadata": {},
   "outputs": [
    {
     "data": {
      "text/plain": [
       "tensor(0.4069)"
      ]
     },
     "execution_count": 8,
     "metadata": {},
     "output_type": "execute_result"
    }
   ],
   "source": [
    "concept = 'oyster'\n",
    "negative = 'mollusk'\n",
    "\n",
    "world.similarity([concept], [c for c in world.taxonomy[f'{negative}.n.01'].descendants() if c != concept]).mean()"
   ]
  },
  {
   "cell_type": "code",
   "execution_count": 9,
   "id": "27465c4c",
   "metadata": {},
   "outputs": [],
   "source": [
    "# precompute random samples\n",
    "\n",
    "fish = [c for c in world.taxonomy['fish.n.01'].descendants()]\n",
    "\n",
    "neg_samples = {\n",
    "    'dolphin': random.sample([c for c in world.taxonomy['mammal.n.01'].descendants() if c != 'dolphin'], len(fish)),\n",
    "    'whale': random.sample([c for c in world.taxonomy['mammal.n.01'].descendants() if c != 'whale'], len(fish))\n",
    "}"
   ]
  },
  {
   "cell_type": "code",
   "execution_count": 10,
   "id": "9a101d25",
   "metadata": {},
   "outputs": [
    {
     "name": "stderr",
     "output_type": "stream",
     "text": [
      "\r",
      "  0%|                                                           | 0/8 [00:00<?, ?it/s]"
     ]
    },
    {
     "name": "stdout",
     "output_type": "stream",
     "text": [
      "================\n",
      "Property: can dax, Concept: hippo\n",
      "WITHIN: -0.07642970234155655\n",
      "OUTSIDE: -0.0909963846206665\n",
      "================\n",
      "================\n",
      "Property: can dax, Concept: dolphin\n",
      "WITHIN: -0.03356577455997467\n",
      "OUTSIDE: -0.2745608985424042\n",
      "================\n",
      "================\n",
      "Property: can dax, Concept: whale\n",
      "WITHIN: -0.0193018801510334\n",
      "OUTSIDE: -0.15030813217163086\n",
      "================\n",
      "================\n",
      "Property: can dax, Concept: turtle\n",
      "WITHIN: -0.014728267677128315\n",
      "OUTSIDE: -0.0884445533156395\n",
      "================\n"
     ]
    },
    {
     "name": "stderr",
     "output_type": "stream",
     "text": [
      "\r",
      " 12%|██████▍                                            | 1/8 [00:04<00:29,  4.28s/it]"
     ]
    },
    {
     "name": "stdout",
     "output_type": "stream",
     "text": [
      "================\n",
      "Property: can dax, Concept: slug\n",
      "WITHIN: -0.046209368854761124\n",
      "OUTSIDE: -0.014397714287042618\n",
      "================\n",
      "================\n",
      "Property: can dax, Concept: snail\n",
      "WITHIN: -0.018888643011450768\n",
      "OUTSIDE: -0.012600679881870747\n",
      "================\n",
      "================\n",
      "Property: can fep, Concept: hippo\n",
      "WITHIN: -0.35351529717445374\n",
      "OUTSIDE: -0.3987973630428314\n",
      "================\n",
      "================\n",
      "Property: can fep, Concept: dolphin\n",
      "WITHIN: -0.15818661451339722\n",
      "OUTSIDE: -0.5636946558952332\n",
      "================\n",
      "================\n",
      "Property: can fep, Concept: whale\n",
      "WITHIN: -0.07265093177556992\n",
      "OUTSIDE: -0.3153703510761261\n",
      "================\n",
      "================\n",
      "Property: can fep, Concept: turtle\n",
      "WITHIN: -0.04054848477244377\n",
      "OUTSIDE: -0.16635607182979584\n",
      "================\n"
     ]
    },
    {
     "name": "stderr",
     "output_type": "stream",
     "text": [
      "\r",
      " 25%|████████████▊                                      | 2/8 [00:06<00:18,  3.09s/it]"
     ]
    },
    {
     "name": "stdout",
     "output_type": "stream",
     "text": [
      "================\n",
      "Property: can fep, Concept: slug\n",
      "WITHIN: -0.31915903091430664\n",
      "OUTSIDE: -0.1138417050242424\n",
      "================\n",
      "================\n",
      "Property: can fep, Concept: snail\n",
      "WITHIN: -0.2324787825345993\n",
      "OUTSIDE: -0.07729379087686539\n",
      "================\n",
      "================\n",
      "Property: is vorpal, Concept: hippo\n",
      "WITHIN: -0.4703787863254547\n",
      "OUTSIDE: -0.4910730719566345\n",
      "================\n",
      "================\n",
      "Property: is vorpal, Concept: dolphin\n",
      "WITHIN: -0.3178153336048126\n",
      "OUTSIDE: -0.4281552731990814\n",
      "================\n",
      "================\n",
      "Property: is vorpal, Concept: whale\n",
      "WITHIN: -0.21502655744552612\n",
      "OUTSIDE: -0.31483206152915955\n",
      "================\n",
      "================\n",
      "Property: is vorpal, Concept: turtle\n",
      "WITHIN: -0.13876526057720184\n",
      "OUTSIDE: -0.2248159646987915\n",
      "================\n"
     ]
    },
    {
     "name": "stderr",
     "output_type": "stream",
     "text": [
      "\r",
      " 38%|███████████████████▏                               | 3/8 [00:08<00:13,  2.76s/it]"
     ]
    },
    {
     "name": "stdout",
     "output_type": "stream",
     "text": [
      "================\n",
      "Property: is vorpal, Concept: slug\n",
      "WITHIN: -0.21229341626167297\n",
      "OUTSIDE: -0.206376850605011\n",
      "================\n",
      "================\n",
      "Property: is vorpal, Concept: snail\n",
      "WITHIN: -0.15557779371738434\n",
      "OUTSIDE: -0.1478094756603241\n",
      "================\n",
      "================\n",
      "Property: is mimsy, Concept: hippo\n",
      "WITHIN: -0.9002360701560974\n",
      "OUTSIDE: -1.1642385721206665\n",
      "================\n",
      "================\n",
      "Property: is mimsy, Concept: dolphin\n",
      "WITHIN: -0.4424107074737549\n",
      "OUTSIDE: -1.2962249517440796\n",
      "================\n",
      "================\n",
      "Property: is mimsy, Concept: whale\n",
      "WITHIN: -0.09918133169412613\n",
      "OUTSIDE: -0.32066234946250916\n",
      "================\n",
      "================\n",
      "Property: is mimsy, Concept: turtle\n",
      "WITHIN: -0.05249973013997078\n",
      "OUTSIDE: -0.15862102806568146\n",
      "================\n"
     ]
    },
    {
     "name": "stderr",
     "output_type": "stream",
     "text": [
      "\r",
      " 50%|█████████████████████████▌                         | 4/8 [00:11<00:10,  2.67s/it]"
     ]
    },
    {
     "name": "stdout",
     "output_type": "stream",
     "text": [
      "================\n",
      "Property: is mimsy, Concept: slug\n",
      "WITHIN: -0.11851979047060013\n",
      "OUTSIDE: -0.10672808438539505\n",
      "================\n",
      "================\n",
      "Property: is mimsy, Concept: snail\n",
      "WITHIN: -0.07221802324056625\n",
      "OUTSIDE: -0.0636807531118393\n",
      "================\n",
      "================\n",
      "Property: has blickets, Concept: hippo\n",
      "WITHIN: -0.170297771692276\n",
      "OUTSIDE: -0.21986515820026398\n",
      "================\n",
      "================\n",
      "Property: has blickets, Concept: dolphin\n",
      "WITHIN: -0.09764402359724045\n",
      "OUTSIDE: -0.25195643305778503\n",
      "================\n",
      "================\n",
      "Property: has blickets, Concept: whale\n",
      "WITHIN: -0.05519669130444527\n",
      "OUTSIDE: -0.16100551187992096\n",
      "================\n",
      "================\n",
      "Property: has blickets, Concept: turtle\n",
      "WITHIN: -0.03728526830673218\n",
      "OUTSIDE: -0.09998424351215363\n",
      "================\n"
     ]
    },
    {
     "name": "stderr",
     "output_type": "stream",
     "text": [
      "\r",
      " 62%|███████████████████████████████▉                   | 5/8 [00:13<00:07,  2.58s/it]"
     ]
    },
    {
     "name": "stdout",
     "output_type": "stream",
     "text": [
      "================\n",
      "Property: has blickets, Concept: slug\n",
      "WITHIN: -0.07391174882650375\n",
      "OUTSIDE: -0.07394348829984665\n",
      "================\n",
      "================\n",
      "Property: has blickets, Concept: snail\n",
      "WITHIN: -0.050558872520923615\n",
      "OUTSIDE: -0.046148497611284256\n",
      "================\n",
      "================\n",
      "Property: has feps, Concept: hippo\n",
      "WITHIN: -0.24735482037067413\n",
      "OUTSIDE: -0.28236573934555054\n",
      "================\n",
      "================\n",
      "Property: has feps, Concept: dolphin\n",
      "WITHIN: -0.10912872850894928\n",
      "OUTSIDE: -0.32687118649482727\n",
      "================\n",
      "================\n",
      "Property: has feps, Concept: whale\n",
      "WITHIN: -0.041725728660821915\n",
      "OUTSIDE: -0.1460542529821396\n",
      "================\n",
      "================\n",
      "Property: has feps, Concept: turtle\n",
      "WITHIN: -0.015366514213383198\n",
      "OUTSIDE: -0.0501873753964901\n",
      "================\n"
     ]
    },
    {
     "name": "stderr",
     "output_type": "stream",
     "text": [
      "\r",
      " 75%|██████████████████████████████████████▎            | 6/8 [00:16<00:04,  2.47s/it]"
     ]
    },
    {
     "name": "stdout",
     "output_type": "stream",
     "text": [
      "================\n",
      "Property: has feps, Concept: slug\n",
      "WITHIN: -0.045962266623973846\n",
      "OUTSIDE: -0.036231059581041336\n",
      "================\n",
      "================\n",
      "Property: has feps, Concept: snail\n",
      "WITHIN: -0.019892828539013863\n",
      "OUTSIDE: -0.015714287757873535\n",
      "================\n",
      "================\n",
      "Property: is a wug, Concept: hippo\n",
      "WITHIN: -0.6442367434501648\n",
      "OUTSIDE: -1.0008431673049927\n",
      "================\n",
      "================\n",
      "Property: is a wug, Concept: dolphin\n",
      "WITHIN: -0.23044200241565704\n",
      "OUTSIDE: -0.6983107328414917\n",
      "================\n",
      "================\n",
      "Property: is a wug, Concept: whale\n",
      "WITHIN: -0.13575883209705353\n",
      "OUTSIDE: -0.4507577121257782\n",
      "================\n",
      "================\n",
      "Property: is a wug, Concept: turtle\n",
      "WITHIN: -0.12092801183462143\n",
      "OUTSIDE: -0.2830098569393158\n",
      "================\n"
     ]
    },
    {
     "name": "stderr",
     "output_type": "stream",
     "text": [
      "\r",
      " 88%|████████████████████████████████████████████▋      | 7/8 [00:18<00:02,  2.49s/it]"
     ]
    },
    {
     "name": "stdout",
     "output_type": "stream",
     "text": [
      "================\n",
      "Property: is a wug, Concept: slug\n",
      "WITHIN: -0.23961074650287628\n",
      "OUTSIDE: -0.2617082893848419\n",
      "================\n",
      "================\n",
      "Property: is a wug, Concept: snail\n",
      "WITHIN: -0.15274621546268463\n",
      "OUTSIDE: -0.1672205924987793\n",
      "================\n",
      "================\n",
      "Property: is a tove, Concept: hippo\n",
      "WITHIN: -0.43772658705711365\n",
      "OUTSIDE: -0.47578006982803345\n",
      "================\n",
      "================\n",
      "Property: is a tove, Concept: dolphin\n",
      "WITHIN: -0.26757410168647766\n",
      "OUTSIDE: -0.4468109905719757\n",
      "================\n",
      "================\n",
      "Property: is a tove, Concept: whale\n",
      "WITHIN: -0.16664841771125793\n",
      "OUTSIDE: -0.3254523277282715\n",
      "================\n",
      "================\n",
      "Property: is a tove, Concept: turtle\n",
      "WITHIN: -0.11743295192718506\n",
      "OUTSIDE: -0.23568391799926758\n",
      "================\n"
     ]
    },
    {
     "name": "stderr",
     "output_type": "stream",
     "text": [
      "100%|███████████████████████████████████████████████████| 8/8 [00:21<00:00,  2.65s/it]\n"
     ]
    },
    {
     "name": "stdout",
     "output_type": "stream",
     "text": [
      "================\n",
      "Property: is a tove, Concept: slug\n",
      "WITHIN: -0.16106577217578888\n",
      "OUTSIDE: -0.2037847340106964\n",
      "================\n",
      "================\n",
      "Property: is a tove, Concept: snail\n",
      "WITHIN: -0.12102561444044113\n",
      "OUTSIDE: -0.14193184673786163\n",
      "================\n"
     ]
    },
    {
     "name": "stderr",
     "output_type": "stream",
     "text": [
      "\r",
      "  0%|                                                           | 0/8 [00:00<?, ?it/s]"
     ]
    },
    {
     "name": "stdout",
     "output_type": "stream",
     "text": [
      "================\n",
      "Property: can dax, Concept: hippo\n",
      "WITHIN: -0.08691787719726562\n",
      "OUTSIDE: -0.10068237781524658\n",
      "================\n",
      "================\n",
      "Property: can dax, Concept: dolphin\n",
      "WITHIN: -0.06602244079113007\n",
      "OUTSIDE: -0.21117691695690155\n",
      "================\n",
      "================\n",
      "Property: can dax, Concept: whale\n",
      "WITHIN: -0.040400005877017975\n",
      "OUTSIDE: -0.11332273483276367\n",
      "================\n",
      "================\n",
      "Property: can dax, Concept: turtle\n",
      "WITHIN: -0.0299111008644104\n",
      "OUTSIDE: -0.08442972600460052\n",
      "================\n",
      "================\n",
      "Property: can dax, Concept: slug\n",
      "WITHIN: -0.07478892803192139\n",
      "OUTSIDE: -0.044579070061445236\n",
      "================\n"
     ]
    },
    {
     "name": "stderr",
     "output_type": "stream",
     "text": [
      "\r",
      " 12%|██████▍                                            | 1/8 [00:02<00:17,  2.49s/it]"
     ]
    },
    {
     "name": "stdout",
     "output_type": "stream",
     "text": [
      "================\n",
      "Property: can dax, Concept: snail\n",
      "WITHIN: -0.05848481133580208\n",
      "OUTSIDE: -0.03513423725962639\n",
      "================\n",
      "================\n",
      "Property: can fep, Concept: hippo\n",
      "WITHIN: -0.2847069501876831\n",
      "OUTSIDE: -0.47688549757003784\n",
      "================\n",
      "================\n",
      "Property: can fep, Concept: dolphin\n",
      "WITHIN: -0.11621702462434769\n",
      "OUTSIDE: -0.3672148883342743\n",
      "================\n",
      "================\n",
      "Property: can fep, Concept: whale\n",
      "WITHIN: -0.07375962287187576\n",
      "OUTSIDE: -0.24456050992012024\n",
      "================\n",
      "================\n",
      "Property: can fep, Concept: turtle\n",
      "WITHIN: -0.07189510017633438\n",
      "OUTSIDE: -0.1691366583108902\n",
      "================\n"
     ]
    },
    {
     "name": "stderr",
     "output_type": "stream",
     "text": [
      "\r",
      " 25%|████████████▊                                      | 2/8 [00:04<00:13,  2.31s/it]"
     ]
    },
    {
     "name": "stdout",
     "output_type": "stream",
     "text": [
      "================\n",
      "Property: can fep, Concept: slug\n",
      "WITHIN: -0.10814972221851349\n",
      "OUTSIDE: -0.1222611665725708\n",
      "================\n",
      "================\n",
      "Property: can fep, Concept: snail\n",
      "WITHIN: -0.07370851933956146\n",
      "OUTSIDE: -0.08002834767103195\n",
      "================\n",
      "================\n",
      "Property: is vorpal, Concept: hippo\n",
      "WITHIN: -0.221548393368721\n",
      "OUTSIDE: -0.2915591299533844\n",
      "================\n",
      "================\n",
      "Property: is vorpal, Concept: dolphin\n",
      "WITHIN: -0.14753592014312744\n",
      "OUTSIDE: -0.493630588054657\n",
      "================\n",
      "================\n",
      "Property: is vorpal, Concept: whale\n",
      "WITHIN: -0.09899986535310745\n",
      "OUTSIDE: -0.3774007260799408\n",
      "================\n",
      "================\n",
      "Property: is vorpal, Concept: turtle\n",
      "WITHIN: -0.07017847150564194\n",
      "OUTSIDE: -0.27244797348976135\n",
      "================\n"
     ]
    },
    {
     "name": "stderr",
     "output_type": "stream",
     "text": [
      "\r",
      " 38%|███████████████████▏                               | 3/8 [00:06<00:10,  2.14s/it]"
     ]
    },
    {
     "name": "stdout",
     "output_type": "stream",
     "text": [
      "================\n",
      "Property: is vorpal, Concept: slug\n",
      "WITHIN: -0.246877059340477\n",
      "OUTSIDE: -0.30457571148872375\n",
      "================\n",
      "================\n",
      "Property: is vorpal, Concept: snail\n",
      "WITHIN: -0.1745593100786209\n",
      "OUTSIDE: -0.20062735676765442\n",
      "================\n",
      "================\n",
      "Property: is mimsy, Concept: hippo\n",
      "WITHIN: -0.4876469373703003\n",
      "OUTSIDE: -0.45596352219581604\n",
      "================\n",
      "================\n",
      "Property: is mimsy, Concept: dolphin\n",
      "WITHIN: -0.23236429691314697\n",
      "OUTSIDE: -0.34053900837898254\n",
      "================\n",
      "================\n",
      "Property: is mimsy, Concept: whale\n",
      "WITHIN: -0.16762013733386993\n",
      "OUTSIDE: -0.27658817172050476\n",
      "================\n",
      "================\n",
      "Property: is mimsy, Concept: turtle\n",
      "WITHIN: -0.11591985076665878\n",
      "OUTSIDE: -0.22464443743228912\n",
      "================\n",
      "================\n",
      "Property: is mimsy, Concept: slug\n",
      "WITHIN: -0.19667111337184906\n",
      "OUTSIDE: -0.2755039930343628\n",
      "================\n"
     ]
    },
    {
     "name": "stderr",
     "output_type": "stream",
     "text": [
      "\r",
      " 50%|█████████████████████████▌                         | 4/8 [00:08<00:08,  2.13s/it]"
     ]
    },
    {
     "name": "stdout",
     "output_type": "stream",
     "text": [
      "================\n",
      "Property: is mimsy, Concept: snail\n",
      "WITHIN: -0.17571981251239777\n",
      "OUTSIDE: -0.21116553246974945\n",
      "================\n",
      "================\n",
      "Property: has blickets, Concept: hippo\n",
      "WITHIN: -0.3856513798236847\n",
      "OUTSIDE: -0.5085251927375793\n",
      "================\n",
      "================\n",
      "Property: has blickets, Concept: dolphin\n",
      "WITHIN: -0.19167591631412506\n",
      "OUTSIDE: -0.4048594832420349\n",
      "================\n",
      "================\n",
      "Property: has blickets, Concept: whale\n",
      "WITHIN: -0.14177818596363068\n",
      "OUTSIDE: -0.3203780949115753\n",
      "================\n",
      "================\n",
      "Property: has blickets, Concept: turtle\n",
      "WITHIN: -0.13890793919563293\n",
      "OUTSIDE: -0.2521149814128876\n",
      "================\n"
     ]
    },
    {
     "name": "stderr",
     "output_type": "stream",
     "text": [
      "\r",
      " 62%|███████████████████████████████▉                   | 5/8 [00:10<00:06,  2.10s/it]"
     ]
    },
    {
     "name": "stdout",
     "output_type": "stream",
     "text": [
      "================\n",
      "Property: has blickets, Concept: slug\n",
      "WITHIN: -0.19205328822135925\n",
      "OUTSIDE: -0.24285252392292023\n",
      "================\n",
      "================\n",
      "Property: has blickets, Concept: snail\n",
      "WITHIN: -0.16303503513336182\n",
      "OUTSIDE: -0.18281584978103638\n",
      "================\n",
      "================\n",
      "Property: has feps, Concept: hippo\n",
      "WITHIN: -0.17052467167377472\n",
      "OUTSIDE: -0.2631690800189972\n",
      "================\n",
      "================\n",
      "Property: has feps, Concept: dolphin\n",
      "WITHIN: -0.08287426829338074\n",
      "OUTSIDE: -0.42752718925476074\n",
      "================\n",
      "================\n",
      "Property: has feps, Concept: whale\n",
      "WITHIN: -0.0563477948307991\n",
      "OUTSIDE: -0.3199656903743744\n",
      "================\n",
      "================\n",
      "Property: has feps, Concept: turtle\n",
      "WITHIN: -0.0449204258620739\n",
      "OUTSIDE: -0.23210474848747253\n",
      "================\n",
      "================\n",
      "Property: has feps, Concept: slug\n",
      "WITHIN: -0.2056042104959488\n",
      "OUTSIDE: -0.27060171961784363\n",
      "================\n"
     ]
    },
    {
     "name": "stderr",
     "output_type": "stream",
     "text": [
      "\r",
      " 75%|██████████████████████████████████████▎            | 6/8 [00:12<00:04,  2.06s/it]"
     ]
    },
    {
     "name": "stdout",
     "output_type": "stream",
     "text": [
      "================\n",
      "Property: has feps, Concept: snail\n",
      "WITHIN: -0.1393517106771469\n",
      "OUTSIDE: -0.17252162098884583\n",
      "================\n",
      "================\n",
      "Property: is a wug, Concept: hippo\n",
      "WITHIN: -0.6590182781219482\n",
      "OUTSIDE: -0.6814402341842651\n",
      "================\n",
      "================\n",
      "Property: is a wug, Concept: dolphin\n",
      "WITHIN: -0.18871790170669556\n",
      "OUTSIDE: -0.5278925895690918\n",
      "================\n",
      "================\n",
      "Property: is a wug, Concept: whale\n",
      "WITHIN: -0.13228240609169006\n",
      "OUTSIDE: -0.3902044892311096\n",
      "================\n",
      "================\n",
      "Property: is a wug, Concept: turtle\n",
      "WITHIN: -0.08905454725027084\n",
      "OUTSIDE: -0.29010701179504395\n",
      "================\n"
     ]
    },
    {
     "name": "stderr",
     "output_type": "stream",
     "text": [
      "\r",
      " 88%|████████████████████████████████████████████▋      | 7/8 [00:14<00:02,  2.06s/it]"
     ]
    },
    {
     "name": "stdout",
     "output_type": "stream",
     "text": [
      "================\n",
      "Property: is a wug, Concept: slug\n",
      "WITHIN: -0.2574957311153412\n",
      "OUTSIDE: -0.2378564178943634\n",
      "================\n",
      "================\n",
      "Property: is a wug, Concept: snail\n",
      "WITHIN: -0.18967784941196442\n",
      "OUTSIDE: -0.17652733623981476\n",
      "================\n",
      "================\n",
      "Property: is a tove, Concept: hippo\n",
      "WITHIN: -0.9691861271858215\n",
      "OUTSIDE: -1.2239446640014648\n",
      "================\n",
      "================\n",
      "Property: is a tove, Concept: dolphin\n",
      "WITHIN: -0.31521913409233093\n",
      "OUTSIDE: -0.38702645897865295\n",
      "================\n",
      "================\n",
      "Property: is a tove, Concept: whale\n",
      "WITHIN: -0.2511238753795624\n",
      "OUTSIDE: -0.3277982771396637\n",
      "================\n"
     ]
    },
    {
     "name": "stderr",
     "output_type": "stream",
     "text": [
      "100%|███████████████████████████████████████████████████| 8/8 [00:17<00:00,  2.18s/it]\n"
     ]
    },
    {
     "name": "stdout",
     "output_type": "stream",
     "text": [
      "================\n",
      "Property: is a tove, Concept: turtle\n",
      "WITHIN: -0.17387361824512482\n",
      "OUTSIDE: -0.24384604394435883\n",
      "================\n",
      "================\n",
      "Property: is a tove, Concept: slug\n",
      "WITHIN: -0.22795675694942474\n",
      "OUTSIDE: -0.29504790902137756\n",
      "================\n",
      "================\n",
      "Property: is a tove, Concept: snail\n",
      "WITHIN: -0.20546020567417145\n",
      "OUTSIDE: -0.2474389672279358\n",
      "================\n"
     ]
    },
    {
     "name": "stderr",
     "output_type": "stream",
     "text": [
      "\r",
      "  0%|                                                           | 0/8 [00:00<?, ?it/s]"
     ]
    },
    {
     "name": "stdout",
     "output_type": "stream",
     "text": [
      "================\n",
      "Property: can dax, Concept: hippo\n",
      "WITHIN: -0.22439084947109222\n",
      "OUTSIDE: -0.26590871810913086\n",
      "================\n",
      "================\n",
      "Property: can dax, Concept: dolphin\n",
      "WITHIN: -0.15414369106292725\n",
      "OUTSIDE: -0.6003149747848511\n",
      "================\n",
      "================\n",
      "Property: can dax, Concept: whale\n",
      "WITHIN: -0.10177098214626312\n",
      "OUTSIDE: -0.4446675181388855\n",
      "================\n",
      "================\n",
      "Property: can dax, Concept: turtle\n",
      "WITHIN: -0.05513644218444824\n",
      "OUTSIDE: -0.32205063104629517\n",
      "================\n"
     ]
    },
    {
     "name": "stderr",
     "output_type": "stream",
     "text": [
      "\r",
      " 12%|██████▍                                            | 1/8 [00:02<00:15,  2.18s/it]"
     ]
    },
    {
     "name": "stdout",
     "output_type": "stream",
     "text": [
      "================\n",
      "Property: can dax, Concept: slug\n",
      "WITHIN: -0.23745645582675934\n",
      "OUTSIDE: -0.20829644799232483\n",
      "================\n",
      "================\n",
      "Property: can dax, Concept: snail\n",
      "WITHIN: -0.16468249261379242\n",
      "OUTSIDE: -0.13527196645736694\n",
      "================\n",
      "================\n",
      "Property: can fep, Concept: hippo\n",
      "WITHIN: -0.17709849774837494\n",
      "OUTSIDE: -0.14343249797821045\n",
      "================\n",
      "================\n",
      "Property: can fep, Concept: dolphin\n",
      "WITHIN: -0.10346361249685287\n",
      "OUTSIDE: -0.3000946044921875\n",
      "================\n",
      "================\n",
      "Property: can fep, Concept: whale\n",
      "WITHIN: -0.05620945990085602\n",
      "OUTSIDE: -0.20428466796875\n",
      "================\n",
      "================\n",
      "Property: can fep, Concept: turtle\n",
      "WITHIN: -0.016018390655517578\n",
      "OUTSIDE: -0.1270197629928589\n",
      "================\n",
      "================\n",
      "Property: can fep, Concept: slug\n",
      "WITHIN: -0.1255069226026535\n",
      "OUTSIDE: -0.07055053114891052\n",
      "================\n"
     ]
    },
    {
     "name": "stderr",
     "output_type": "stream",
     "text": [
      "\r",
      " 25%|████████████▊                                      | 2/8 [00:04<00:13,  2.21s/it]"
     ]
    },
    {
     "name": "stdout",
     "output_type": "stream",
     "text": [
      "================\n",
      "Property: can fep, Concept: snail\n",
      "WITHIN: -0.06630813330411911\n",
      "OUTSIDE: -0.03498880937695503\n",
      "================\n",
      "================\n",
      "Property: is vorpal, Concept: hippo\n",
      "WITHIN: -0.3504026532173157\n",
      "OUTSIDE: -0.43382638692855835\n",
      "================\n",
      "================\n",
      "Property: is vorpal, Concept: dolphin\n",
      "WITHIN: -0.20266731083393097\n",
      "OUTSIDE: -1.0993863344192505\n",
      "================\n",
      "================\n",
      "Property: is vorpal, Concept: whale\n",
      "WITHIN: -0.10924333333969116\n",
      "OUTSIDE: -0.6871314644813538\n",
      "================\n"
     ]
    },
    {
     "name": "stderr",
     "output_type": "stream",
     "text": [
      "\r",
      " 38%|███████████████████▏                               | 3/8 [00:06<00:11,  2.21s/it]"
     ]
    },
    {
     "name": "stdout",
     "output_type": "stream",
     "text": [
      "================\n",
      "Property: is vorpal, Concept: turtle\n",
      "WITHIN: -0.03446952626109123\n",
      "OUTSIDE: -0.409996896982193\n",
      "================\n",
      "================\n",
      "Property: is vorpal, Concept: slug\n",
      "WITHIN: -0.32883644104003906\n",
      "OUTSIDE: -0.31561511754989624\n",
      "================\n",
      "================\n",
      "Property: is vorpal, Concept: snail\n",
      "WITHIN: -0.20611783862113953\n",
      "OUTSIDE: -0.18445590138435364\n",
      "================\n",
      "================\n",
      "Property: is mimsy, Concept: hippo\n",
      "WITHIN: -0.3805403709411621\n",
      "OUTSIDE: -0.2969774603843689\n",
      "================\n",
      "================\n",
      "Property: is mimsy, Concept: dolphin\n",
      "WITHIN: -0.10708773136138916\n",
      "OUTSIDE: -0.397305428981781\n",
      "================\n",
      "================\n",
      "Property: is mimsy, Concept: whale\n",
      "WITHIN: -0.06321758776903152\n",
      "OUTSIDE: -0.2900197207927704\n",
      "================\n",
      "================\n",
      "Property: is mimsy, Concept: turtle\n",
      "WITHIN: -0.03665902093052864\n",
      "OUTSIDE: -0.21481041610240936\n",
      "================\n",
      "================\n",
      "Property: is mimsy, Concept: slug\n",
      "WITHIN: -0.23785348236560822\n",
      "OUTSIDE: -0.1891355961561203\n",
      "================\n"
     ]
    },
    {
     "name": "stderr",
     "output_type": "stream",
     "text": [
      "\r",
      " 50%|█████████████████████████▌                         | 4/8 [00:08<00:09,  2.27s/it]"
     ]
    },
    {
     "name": "stdout",
     "output_type": "stream",
     "text": [
      "================\n",
      "Property: is mimsy, Concept: snail\n",
      "WITHIN: -0.17107875645160675\n",
      "OUTSIDE: -0.14062412083148956\n",
      "================\n",
      "================\n",
      "Property: has blickets, Concept: hippo\n",
      "WITHIN: -0.3325522243976593\n",
      "OUTSIDE: -0.4307999610900879\n",
      "================\n",
      "================\n",
      "Property: has blickets, Concept: dolphin\n",
      "WITHIN: -0.11892099678516388\n",
      "OUTSIDE: -0.5546491742134094\n",
      "================\n",
      "================\n",
      "Property: has blickets, Concept: whale\n",
      "WITHIN: -0.07464540749788284\n",
      "OUTSIDE: -0.41366294026374817\n",
      "================\n",
      "================\n",
      "Property: has blickets, Concept: turtle\n",
      "WITHIN: -0.0526045560836792\n",
      "OUTSIDE: -0.31386417150497437\n",
      "================\n",
      "================\n",
      "Property: has blickets, Concept: slug\n",
      "WITHIN: -0.41050243377685547\n",
      "OUTSIDE: -0.16101844608783722\n",
      "================\n"
     ]
    },
    {
     "name": "stderr",
     "output_type": "stream",
     "text": [
      "\r",
      " 62%|███████████████████████████████▉                   | 5/8 [00:11<00:07,  2.33s/it]"
     ]
    },
    {
     "name": "stdout",
     "output_type": "stream",
     "text": [
      "================\n",
      "Property: has blickets, Concept: snail\n",
      "WITHIN: -0.3145851194858551\n",
      "OUTSIDE: -0.13384640216827393\n",
      "================\n",
      "================\n",
      "Property: has feps, Concept: hippo\n",
      "WITHIN: -0.26017552614212036\n",
      "OUTSIDE: -0.2876489758491516\n",
      "================\n",
      "================\n",
      "Property: has feps, Concept: dolphin\n",
      "WITHIN: -0.16253811120986938\n",
      "OUTSIDE: -0.4709077477455139\n",
      "================\n",
      "================\n",
      "Property: has feps, Concept: whale\n",
      "WITHIN: -0.09837818145751953\n",
      "OUTSIDE: -0.3574419915676117\n",
      "================\n",
      "================\n",
      "Property: has feps, Concept: turtle\n",
      "WITHIN: -0.04614267870783806\n",
      "OUTSIDE: -0.2586970329284668\n",
      "================\n",
      "================\n",
      "Property: has feps, Concept: slug\n",
      "WITHIN: -0.29083654284477234\n",
      "OUTSIDE: -0.2562917470932007\n",
      "================\n"
     ]
    },
    {
     "name": "stderr",
     "output_type": "stream",
     "text": [
      "\r",
      " 75%|██████████████████████████████████████▎            | 6/8 [00:13<00:04,  2.29s/it]"
     ]
    },
    {
     "name": "stdout",
     "output_type": "stream",
     "text": [
      "================\n",
      "Property: has feps, Concept: snail\n",
      "WITHIN: -0.19223523139953613\n",
      "OUTSIDE: -0.17207512259483337\n",
      "================\n",
      "================\n",
      "Property: is a wug, Concept: hippo\n",
      "WITHIN: -0.3737499713897705\n",
      "OUTSIDE: -0.41341498494148254\n",
      "================\n",
      "================\n",
      "Property: is a wug, Concept: dolphin\n",
      "WITHIN: -0.1943567991256714\n",
      "OUTSIDE: -0.8329520225524902\n",
      "================\n",
      "================\n",
      "Property: is a wug, Concept: whale\n",
      "WITHIN: -0.09902273118495941\n",
      "OUTSIDE: -0.433041512966156\n",
      "================\n",
      "================\n",
      "Property: is a wug, Concept: turtle\n",
      "WITHIN: -0.060935813933610916\n",
      "OUTSIDE: -0.32584595680236816\n",
      "================\n"
     ]
    },
    {
     "name": "stderr",
     "output_type": "stream",
     "text": [
      "\r",
      " 88%|████████████████████████████████████████████▋      | 7/8 [00:16<00:02,  2.36s/it]"
     ]
    },
    {
     "name": "stdout",
     "output_type": "stream",
     "text": [
      "================\n",
      "Property: is a wug, Concept: slug\n",
      "WITHIN: -0.33513206243515015\n",
      "OUTSIDE: -0.3780505955219269\n",
      "================\n",
      "================\n",
      "Property: is a wug, Concept: snail\n",
      "WITHIN: -0.2272053211927414\n",
      "OUTSIDE: -0.2800273895263672\n",
      "================\n",
      "================\n",
      "Property: is a tove, Concept: hippo\n",
      "WITHIN: -0.6682340502738953\n",
      "OUTSIDE: -0.5302767157554626\n",
      "================\n",
      "================\n",
      "Property: is a tove, Concept: dolphin\n",
      "WITHIN: -0.14324714243412018\n",
      "OUTSIDE: -0.43861860036849976\n",
      "================\n",
      "================\n",
      "Property: is a tove, Concept: whale\n",
      "WITHIN: -0.0910964086651802\n",
      "OUTSIDE: -0.32468798756599426\n",
      "================\n"
     ]
    },
    {
     "name": "stderr",
     "output_type": "stream",
     "text": [
      "100%|███████████████████████████████████████████████████| 8/8 [00:18<00:00,  2.33s/it]"
     ]
    },
    {
     "name": "stdout",
     "output_type": "stream",
     "text": [
      "================\n",
      "Property: is a tove, Concept: turtle\n",
      "WITHIN: -0.04761747643351555\n",
      "OUTSIDE: -0.2462242990732193\n",
      "================\n",
      "================\n",
      "Property: is a tove, Concept: slug\n",
      "WITHIN: -0.2682441771030426\n",
      "OUTSIDE: -0.24820910394191742\n",
      "================\n",
      "================\n",
      "Property: is a tove, Concept: snail\n",
      "WITHIN: -0.1989985555410385\n",
      "OUTSIDE: -0.18689486384391785\n",
      "================\n"
     ]
    },
    {
     "name": "stderr",
     "output_type": "stream",
     "text": [
      "\n"
     ]
    }
   ],
   "source": [
    "results = defaultdict(dict)\n",
    "\n",
    "for MODEL in MODELS:\n",
    "    result = {'within': [], 'outside': []}\n",
    "    for prop in tqdm(PROPERTIES):\n",
    "        reasoner = Reasoner(f'../../induction/checkpoints/finetuned_models/{MODEL}',\n",
    "                    learning_rate = model_lr[MODEL], \n",
    "                    lexicon = world.lexicon,\n",
    "                    device = DEVICE)\n",
    "        \n",
    "        for stimulus in stimuli:\n",
    "            concept, within, outside = stimulus\n",
    "            \n",
    "            within_stimuli = reasoner.prepare_stimuli(within, prop)\n",
    "            outside_stimuli = reasoner.prepare_stimuli(outside, prop)\n",
    "            adaptation = reasoner.prepare_stimuli([concept], prop)\n",
    "            \n",
    "            reasoner.adapt(adaptation, labels = torch.tensor([1]))\n",
    "            \n",
    "            generalization_within = reasoner.generalize(within_stimuli)[:,1].mean().item()\n",
    "            generalization_outside = reasoner.generalize(outside_stimuli)[:,1].mean().item()\n",
    "            \n",
    "            print('================')\n",
    "            print(f'Property: {prop}, Concept: {concept}')\n",
    "            print(f'WITHIN: {generalization_within}')\n",
    "            print(f'OUTSIDE: {generalization_outside}')\n",
    "            print('================')\n",
    "            \n",
    "            result['within'].append(generalization_within)\n",
    "            result['outside'].append(generalization_outside)\n",
    "            \n",
    "    results[MODEL] = result\n",
    "            "
   ]
  },
  {
   "cell_type": "code",
   "execution_count": 11,
   "id": "b773e523",
   "metadata": {},
   "outputs": [
    {
     "name": "stdout",
     "output_type": "stream",
     "text": [
      "MODEL: axxl-property\n",
      "WITHIN: -0.17375223338603973 (+= 0.17410357296466827)\n",
      "OUTSIDE: -0.28315630555152893 (+= 0.2764502465724945)\n",
      "MODEL: bl-property\n",
      "WITHIN: -0.187341570854187 (+= 0.16346880793571472)\n",
      "OUTSIDE: -0.3000130355358124 (+= 0.19028933346271515)\n",
      "MODEL: rl-property\n",
      "WITHIN: -0.18275661766529083 (+= 0.128874734044075)\n",
      "OUTSIDE: -0.33261069655418396 (+= 0.19451898336410522)\n"
     ]
    }
   ],
   "source": [
    "for k, v in results.items():\n",
    "    print(f\"MODEL: {k}\")\n",
    "    print(f\"WITHIN: {torch.tensor(v['within']).mean()} (+= {torch.tensor(v['within']).std()})\")\n",
    "    print(f\"OUTSIDE: {torch.tensor(v['outside']).mean()} (+= {torch.tensor(v['outside']).std()})\")"
   ]
  },
  {
   "cell_type": "code",
   "execution_count": 22,
   "id": "a52d9f19",
   "metadata": {},
   "outputs": [],
   "source": [
    "with open(\"../data/results/tease_apart.csv\", \"w\") as f:\n",
    "    writer = csv.writer(f)\n",
    "    writer.writerow(['model', 'within', 'outside'])\n",
    "    for k,v in results.items():\n",
    "        for w, o in zip(v['within'], v['outside']):\n",
    "            writer.writerow([k, w, o])\n",
    "#     print(\"=\" * 80)\n",
    "#     print(f\"a <- c({', '.join([str(x) for x in v['within']])})\")\n",
    "#     print(f\"b <- c({', '.join([str(x) for x in v['outside']])})\")\n",
    "#     print('t.test(a, b, paired = TRUE)')"
   ]
  },
  {
   "cell_type": "code",
   "execution_count": 5,
   "id": "5c17f4e7",
   "metadata": {},
   "outputs": [],
   "source": [
    "PROPERTY = 'has feps'\n",
    "CONCEPT = 'dolphin'\n",
    "\n",
    "adaptation = reasoner.prepare_stimuli([CONCEPT], PROPERTY)\n",
    "reasoner.adapt(adaptation, labels = torch.tensor([1]))\n",
    "\n",
    "\n",
    "# birds = [c for c in world.taxonomy['bird.n.01'].descendants()]\n",
    "mammals = [c for c in world.taxonomy['mammal.n.01'].descendants() if c != 'dolphin']\n",
    "fish = [c for c in world.taxonomy['fish.n.01'].descendants() if c != 'dolphin']\n",
    "\n",
    "mammal_stimuli = reasoner.prepare_stimuli(mammals, PROPERTY)\n",
    "fish_stimuli = reasoner.prepare_stimuli(fish, PROPERTY)\n",
    "# bird_stimuli = reasoner.prepare_stimuli(birds, PROPERTY)"
   ]
  },
  {
   "cell_type": "code",
   "execution_count": 6,
   "id": "080a0e7b",
   "metadata": {},
   "outputs": [
    {
     "data": {
      "text/plain": [
       "tensor(-0.2595)"
      ]
     },
     "execution_count": 6,
     "metadata": {},
     "output_type": "execute_result"
    }
   ],
   "source": [
    "reasoner.generalize(mammal_stimuli)[:,1].mean()"
   ]
  },
  {
   "cell_type": "code",
   "execution_count": 7,
   "id": "a5915415",
   "metadata": {},
   "outputs": [
    {
     "data": {
      "text/plain": [
       "tensor(-0.5563)"
      ]
     },
     "execution_count": 7,
     "metadata": {},
     "output_type": "execute_result"
    }
   ],
   "source": [
    "reasoner.generalize(fish_stimuli)[:,1].mean()"
   ]
  },
  {
   "cell_type": "code",
   "execution_count": 5,
   "id": "d9fd8100",
   "metadata": {},
   "outputs": [],
   "source": [
    "PROPERTY = 'has feps'\n",
    "\n",
    "adaptation = reasoner.prepare_stimuli([\"dolphin\"], PROPERTY)\n",
    "reasoner.adapt(adaptation, labels = torch.tensor([1]))\n",
    "\n",
    "\n",
    "mammals = [c for c in world.taxonomy['mammal.n.01'].descendants() if c != 'dolphin']\n",
    "fish = [c for c in world.taxonomy['fish.n.01'].descendants() if c != 'dolphin']\n",
    "\n",
    "mammal_stimuli = reasoner.prepare_stimuli(mammals, PROPERTY)\n",
    "fish_stimuli = reasoner.prepare_stimuli(fish, PROPERTY)"
   ]
  },
  {
   "cell_type": "code",
   "execution_count": 6,
   "id": "502797a5",
   "metadata": {},
   "outputs": [
    {
     "data": {
      "text/plain": [
       "tensor(-0.1707)"
      ]
     },
     "execution_count": 6,
     "metadata": {},
     "output_type": "execute_result"
    }
   ],
   "source": [
    "reasoner.generalize(mammal_stimuli)[:, 1].mean()"
   ]
  },
  {
   "cell_type": "code",
   "execution_count": 7,
   "id": "22a5f0d5",
   "metadata": {},
   "outputs": [
    {
     "data": {
      "text/plain": [
       "tensor(-0.6013)"
      ]
     },
     "execution_count": 7,
     "metadata": {},
     "output_type": "execute_result"
    }
   ],
   "source": [
    "reasoner.generalize(fish_stimuli)[:, 1].mean()"
   ]
  },
  {
   "cell_type": "code",
   "execution_count": 15,
   "id": "06e7a4b5",
   "metadata": {},
   "outputs": [
    {
     "data": {
      "text/plain": [
       "0.27070605754852295"
      ]
     },
     "execution_count": 15,
     "metadata": {},
     "output_type": "execute_result"
    }
   ],
   "source": [
    "world.similarity(['dolphin'], mammals).mean().item()"
   ]
  },
  {
   "cell_type": "code",
   "execution_count": 16,
   "id": "58f25aa5",
   "metadata": {},
   "outputs": [
    {
     "data": {
      "text/plain": [
       "0.30332738161087036"
      ]
     },
     "execution_count": 16,
     "metadata": {},
     "output_type": "execute_result"
    }
   ],
   "source": [
    "world.similarity(['dolphin'], fish).mean().item()"
   ]
  },
  {
   "cell_type": "code",
   "execution_count": 5,
   "id": "17c9abe9",
   "metadata": {},
   "outputs": [],
   "source": [
    "def prepare_stimuli_prop(self, concepts, properties):\n",
    "    sentences = [f'{c} {p}.' for c in concepts for p in properties]\n",
    "    print(sentences)\n",
    "    encoded = self.tokenizer(sentences, return_tensors = 'pt', padding = True)\n",
    "    \n",
    "    return encoded"
   ]
  },
  {
   "cell_type": "code",
   "execution_count": 10,
   "id": "8c1c0df3",
   "metadata": {},
   "outputs": [
    {
     "name": "stdout",
     "output_type": "stream",
     "text": [
      "['a bird is an animal.', 'a bird is a mammal.', 'a bird is an ape.', 'a bird can breathe.', 'a bird can grow.', 'a bird is a living thing.', 'a bird is a plant.', 'a bird is a fish.']\n"
     ]
    }
   ],
   "source": [
    "properties = ['is an animal', 'is a mammal', 'is an ape', 'can breathe', 'can grow', 'is a living thing', 'is a plant', 'is a fish']\n",
    "\n",
    "stimuli = prepare_stimuli_prop(reasoner, ['a bird'], properties)"
   ]
  },
  {
   "cell_type": "code",
   "execution_count": 11,
   "id": "ad9c7a7a",
   "metadata": {},
   "outputs": [
    {
     "data": {
      "text/plain": [
       "tensor([0.9936, 0.0117, 0.0059, 0.9947, 0.9946, 0.9874, 0.0046, 0.0063])"
      ]
     },
     "execution_count": 11,
     "metadata": {},
     "output_type": "execute_result"
    }
   ],
   "source": [
    "reasoner.generalize(stimuli)[:,1].exp()"
   ]
  },
  {
   "cell_type": "code",
   "execution_count": 7,
   "id": "3ed64545",
   "metadata": {},
   "outputs": [
    {
     "name": "stdout",
     "output_type": "stream",
     "text": [
      "['a dax is a bird.']\n"
     ]
    }
   ],
   "source": [
    "PROPERTY = \"is a bird\"\n",
    "adaptation = prepare_stimuli_prop(reasoner, [\"a dax\"], [PROPERTY])\n",
    "reasoner.adapt(adaptation, labels = torch.tensor([1]))"
   ]
  },
  {
   "cell_type": "code",
   "execution_count": 8,
   "id": "2e6a6137",
   "metadata": {},
   "outputs": [
    {
     "name": "stdout",
     "output_type": "stream",
     "text": [
      "['a dax is an animal.', 'a dax is a mammal.', 'a dax is a bird.', 'a dax is an ape.', 'a dax can breathe.', 'a dax can grow.', 'a dax is a living thing.', 'a dax is a plant.', 'a dax is a fish.', 'a dax can fly.']\n"
     ]
    }
   ],
   "source": [
    "properties = ['is an animal', 'is a mammal', 'is a bird', 'is an ape', 'can breathe', 'can grow', 'is a living thing', 'is a plant', 'is a fish', 'can fly']\n",
    "\n",
    "stimuli = prepare_stimuli_prop(reasoner, ['a dax'], properties)"
   ]
  },
  {
   "cell_type": "code",
   "execution_count": 9,
   "id": "1869b6a2",
   "metadata": {},
   "outputs": [
    {
     "data": {
      "text/plain": [
       "tensor([[-4.4052, -0.0123],\n",
       "        [-2.5386, -0.0823],\n",
       "        [-3.4440, -0.0325],\n",
       "        [-3.1044, -0.0459],\n",
       "        [-4.6169, -0.0099],\n",
       "        [-4.8222, -0.0081],\n",
       "        [-3.4630, -0.0318],\n",
       "        [-1.9329, -0.1563],\n",
       "        [-1.0055, -0.4555],\n",
       "        [-3.3311, -0.0364]])"
      ]
     },
     "execution_count": 9,
     "metadata": {},
     "output_type": "execute_result"
    }
   ],
   "source": [
    "reasoner.generalize(stimuli)"
   ]
  },
  {
   "cell_type": "code",
   "execution_count": null,
   "id": "a4e42e02",
   "metadata": {},
   "outputs": [],
   "source": []
  }
 ],
 "metadata": {
  "kernelspec": {
   "display_name": "Python 3 (ipykernel)",
   "language": "python",
   "name": "python3"
  },
  "language_info": {
   "codemirror_mode": {
    "name": "ipython",
    "version": 3
   },
   "file_extension": ".py",
   "mimetype": "text/x-python",
   "name": "python",
   "nbconvert_exporter": "python",
   "pygments_lexer": "ipython3",
   "version": "3.8.12"
  }
 },
 "nbformat": 4,
 "nbformat_minor": 5
}
