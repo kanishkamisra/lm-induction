{
 "cells": [
  {
   "cell_type": "code",
   "execution_count": 1,
   "id": "1632aeb5",
   "metadata": {},
   "outputs": [],
   "source": [
    "import csv\n",
    "import random\n",
    "import torch\n",
    "\n",
    "from reasoner import Reasoner\n",
    "from world import World\n",
    "\n",
    "from collections import defaultdict\n",
    "from tqdm import tqdm"
   ]
  },
  {
   "cell_type": "code",
   "execution_count": 2,
   "id": "4678bf19",
   "metadata": {},
   "outputs": [
    {
     "name": "stderr",
     "output_type": "stream",
     "text": [
      "521it [00:00, 6818.41it/s]\n"
     ]
    }
   ],
   "source": [
    "random.seed(42)\n",
    "torch.manual_seed(42)\n",
    "\n",
    "model_lr = {\n",
    "    'rl-property': 2.5074850299401197e-06,\n",
    "    'bl-property': 2.508483033932136e-06,\n",
    "    'axxl-property': 3.0054890219560877e-06,\n",
    "}\n",
    "\n",
    "negative_sampler = {\n",
    "    'axxl-property': '../../induction/checkpoints/finetuned_models/axxl-property',\n",
    "    'bl-property': '../../induction/checkpoints/finetuned_models/bl-property',\n",
    "    'rl-property': '../../induction/checkpoints/finetuned_models/rl-property',\n",
    "}\n",
    "\n",
    "world = World(concept_path = \"../data/concept_senses.csv\", \n",
    "             feature_path = '../data/experimental splits/train_1ns.csv', \n",
    "             matrix_path = \"../data/train_1ns_matrix.txt\")\n",
    "world.create()"
   ]
  },
  {
   "cell_type": "code",
   "execution_count": 3,
   "id": "00aebda4",
   "metadata": {},
   "outputs": [],
   "source": [
    "PROPERTIES = ['can dax', 'can fep', 'is vorpal', 'is mimsy', 'has blickets', 'has feps', 'is a wug', 'is a tove']"
   ]
  },
  {
   "cell_type": "code",
   "execution_count": 4,
   "id": "af929577",
   "metadata": {},
   "outputs": [],
   "source": [
    "MODELS = ['axxl-property', 'bl-property', 'rl-property']\n",
    "DEVICE = 'cuda:0'"
   ]
  },
  {
   "cell_type": "code",
   "execution_count": 5,
   "id": "d10f59ce",
   "metadata": {},
   "outputs": [],
   "source": [
    "categories = ['bird.n.01', 'mammal.n.01', 'reptile.n.01', 'fish.n.01', 'insect.n.01', 'mollusk.n.01']\n",
    "\n",
    "candidates = []\n",
    "for cat in categories:\n",
    "    descendants = world.taxonomy[cat].descendants()\n",
    "    for concept in descendants:\n",
    "        negatives = set(categories) - set([cat])\n",
    "        positive = [c for c in world.taxonomy[cat].descendants() if c != concept]\n",
    "        for cn in negatives:\n",
    "            negative = [c for c in world.taxonomy[cn].descendants()]\n",
    "\n",
    "            sim_p = world.similarity([concept], positive).mean().item()\n",
    "            sim_n = world.similarity([concept], negative).mean().item()\n",
    "\n",
    "            if sim_n > sim_p:\n",
    "                candidates.append((concept, cat, cn))"
   ]
  },
  {
   "cell_type": "code",
   "execution_count": 6,
   "id": "eaa0afb6",
   "metadata": {},
   "outputs": [
    {
     "data": {
      "text/plain": [
       "[('hippo', 'mammal.n.01', 'reptile.n.01'),\n",
       " ('dolphin', 'mammal.n.01', 'fish.n.01'),\n",
       " ('whale', 'mammal.n.01', 'fish.n.01'),\n",
       " ('turtle', 'reptile.n.01', 'fish.n.01'),\n",
       " ('slug', 'mollusk.n.01', 'insect.n.01'),\n",
       " ('snail', 'mollusk.n.01', 'insect.n.01')]"
      ]
     },
     "execution_count": 6,
     "metadata": {},
     "output_type": "execute_result"
    }
   ],
   "source": [
    "candidates"
   ]
  },
  {
   "cell_type": "code",
   "execution_count": 7,
   "id": "c2375fda",
   "metadata": {},
   "outputs": [],
   "source": [
    "random.seed(42)\n",
    "\n",
    "stimuli = []\n",
    "for concept, p, n in candidates:\n",
    "    negative = world.taxonomy[n].descendants()\n",
    "    positive = [c for c in world.taxonomy[p].descendants() if c != concept]\n",
    "#     positive = random.sample(positive, min(len(positive), len(negative)))\n",
    "    \n",
    "    stimuli.append([concept, positive, negative])"
   ]
  },
  {
   "cell_type": "code",
   "execution_count": 8,
   "id": "b46bb4be",
   "metadata": {},
   "outputs": [
    {
     "data": {
      "text/plain": [
       "tensor(0.4069)"
      ]
     },
     "execution_count": 8,
     "metadata": {},
     "output_type": "execute_result"
    }
   ],
   "source": [
    "concept = 'oyster'\n",
    "negative = 'mollusk'\n",
    "\n",
    "world.similarity([concept], [c for c in world.taxonomy[f'{negative}.n.01'].descendants() if c != concept]).mean()"
   ]
  },
  {
   "cell_type": "code",
   "execution_count": 9,
   "id": "27465c4c",
   "metadata": {},
   "outputs": [],
   "source": [
    "# precompute random samples\n",
    "\n",
    "fish = [c for c in world.taxonomy['fish.n.01'].descendants()]\n",
    "\n",
    "neg_samples = {\n",
    "    'dolphin': random.sample([c for c in world.taxonomy['mammal.n.01'].descendants() if c != 'dolphin'], len(fish)),\n",
    "    'whale': random.sample([c for c in world.taxonomy['mammal.n.01'].descendants() if c != 'whale'], len(fish))\n",
    "}"
   ]
  },
  {
   "cell_type": "code",
   "execution_count": 10,
   "id": "9a101d25",
   "metadata": {},
   "outputs": [
    {
     "name": "stderr",
     "output_type": "stream",
     "text": [
      "\r",
      "  0%|                                                     | 0/8 [00:00<?, ?it/s]"
     ]
    },
    {
     "name": "stdout",
     "output_type": "stream",
     "text": [
      "================\n",
      "Property: can dax, Concept: hippo\n",
      "WITHIN: -0.07642970234155655\n",
      "OUTSIDE: -0.0909963846206665\n",
      "================\n",
      "================\n",
      "Property: can dax, Concept: dolphin\n",
      "WITHIN: -0.244098961353302\n",
      "OUTSIDE: -1.0315020084381104\n",
      "================\n",
      "================\n",
      "Property: can dax, Concept: whale\n",
      "WITHIN: -0.07020338624715805\n",
      "OUTSIDE: -0.4079572260379791\n",
      "================\n",
      "================\n",
      "Property: can dax, Concept: turtle\n",
      "WITHIN: -0.05505573749542236\n",
      "OUTSIDE: -0.5107094645500183\n",
      "================\n",
      "================\n",
      "Property: can dax, Concept: slug\n",
      "WITHIN: -0.6792489290237427\n",
      "OUTSIDE: -0.12208029627799988\n",
      "================\n"
     ]
    },
    {
     "name": "stderr",
     "output_type": "stream",
     "text": [
      "\r",
      " 12%|█████▋                                       | 1/8 [00:10<01:11, 10.16s/it]"
     ]
    },
    {
     "name": "stdout",
     "output_type": "stream",
     "text": [
      "================\n",
      "Property: can dax, Concept: snail\n",
      "WITHIN: -0.6891070604324341\n",
      "OUTSIDE: -0.09203670918941498\n",
      "================\n",
      "================\n",
      "Property: can fep, Concept: hippo\n",
      "WITHIN: -0.3531833589076996\n",
      "OUTSIDE: -0.3986625373363495\n",
      "================\n",
      "================\n",
      "Property: can fep, Concept: dolphin\n",
      "WITHIN: -0.42197185754776\n",
      "OUTSIDE: -1.0740309953689575\n",
      "================\n",
      "================\n",
      "Property: can fep, Concept: whale\n",
      "WITHIN: -0.10421770066022873\n",
      "OUTSIDE: -0.43521150946617126\n",
      "================\n",
      "================\n",
      "Property: can fep, Concept: turtle\n",
      "WITHIN: -0.2164015769958496\n",
      "OUTSIDE: -0.593176007270813\n",
      "================\n",
      "================\n",
      "Property: can fep, Concept: slug\n",
      "WITHIN: -0.6576176285743713\n",
      "OUTSIDE: -0.4647241234779358\n",
      "================\n"
     ]
    },
    {
     "name": "stderr",
     "output_type": "stream",
     "text": [
      "\r",
      " 25%|███████████▎                                 | 2/8 [00:18<00:53,  9.00s/it]"
     ]
    },
    {
     "name": "stdout",
     "output_type": "stream",
     "text": [
      "================\n",
      "Property: can fep, Concept: snail\n",
      "WITHIN: -0.6689313650131226\n",
      "OUTSIDE: -0.6392593383789062\n",
      "================\n",
      "================\n",
      "Property: is vorpal, Concept: hippo\n",
      "WITHIN: -0.46499913930892944\n",
      "OUTSIDE: -0.48510879278182983\n",
      "================\n",
      "================\n",
      "Property: is vorpal, Concept: dolphin\n",
      "WITHIN: -0.7461907863616943\n",
      "OUTSIDE: -0.3232360780239105\n",
      "================\n",
      "================\n",
      "Property: is vorpal, Concept: whale\n",
      "WITHIN: -0.4484940767288208\n",
      "OUTSIDE: -0.4311833381652832\n",
      "================\n",
      "================\n",
      "Property: is vorpal, Concept: turtle\n",
      "WITHIN: -0.3461209237575531\n",
      "OUTSIDE: -0.5496163964271545\n",
      "================\n",
      "================\n",
      "Property: is vorpal, Concept: slug\n",
      "WITHIN: -0.5289884209632874\n",
      "OUTSIDE: -0.47435903549194336\n",
      "================\n"
     ]
    },
    {
     "name": "stderr",
     "output_type": "stream",
     "text": [
      "\r",
      " 38%|████████████████▉                            | 3/8 [00:26<00:44,  8.84s/it]"
     ]
    },
    {
     "name": "stdout",
     "output_type": "stream",
     "text": [
      "================\n",
      "Property: is vorpal, Concept: snail\n",
      "WITHIN: -0.5001149773597717\n",
      "OUTSIDE: -0.5425390005111694\n",
      "================\n",
      "================\n",
      "Property: is mimsy, Concept: hippo\n",
      "WITHIN: -0.891398549079895\n",
      "OUTSIDE: -1.1511842012405396\n",
      "================\n",
      "================\n",
      "Property: is mimsy, Concept: dolphin\n",
      "WITHIN: -0.6528115272521973\n",
      "OUTSIDE: -1.0588798522949219\n",
      "================\n",
      "================\n",
      "Property: is mimsy, Concept: whale\n",
      "WITHIN: -0.3144012987613678\n",
      "OUTSIDE: -0.36629167199134827\n",
      "================\n",
      "================\n",
      "Property: is mimsy, Concept: turtle\n",
      "WITHIN: -0.2981642782688141\n",
      "OUTSIDE: -0.6530864834785461\n",
      "================\n",
      "================\n",
      "Property: is mimsy, Concept: slug\n",
      "WITHIN: -0.9207433462142944\n",
      "OUTSIDE: -0.6435005068778992\n",
      "================\n"
     ]
    },
    {
     "name": "stderr",
     "output_type": "stream",
     "text": [
      "\r",
      " 50%|██████████████████████▌                      | 4/8 [00:36<00:36,  9.07s/it]"
     ]
    },
    {
     "name": "stdout",
     "output_type": "stream",
     "text": [
      "================\n",
      "Property: is mimsy, Concept: snail\n",
      "WITHIN: -0.6074271202087402\n",
      "OUTSIDE: -0.4549505412578583\n",
      "================\n",
      "================\n",
      "Property: has blickets, Concept: hippo\n",
      "WITHIN: -0.1597656011581421\n",
      "OUTSIDE: -0.2046510875225067\n",
      "================\n",
      "================\n",
      "Property: has blickets, Concept: dolphin\n",
      "WITHIN: -0.3343164324760437\n",
      "OUTSIDE: -0.5743044018745422\n",
      "================\n",
      "================\n",
      "Property: has blickets, Concept: whale\n",
      "WITHIN: -0.2521911561489105\n",
      "OUTSIDE: -0.4243066608905792\n",
      "================\n",
      "================\n",
      "Property: has blickets, Concept: turtle\n",
      "WITHIN: -0.2620828151702881\n",
      "OUTSIDE: -0.4277159869670868\n",
      "================\n",
      "================\n",
      "Property: has blickets, Concept: slug\n",
      "WITHIN: -0.3318157494068146\n",
      "OUTSIDE: -0.2455356866121292\n",
      "================\n"
     ]
    },
    {
     "name": "stderr",
     "output_type": "stream",
     "text": [
      "\r",
      " 62%|████████████████████████████▏                | 5/8 [00:44<00:26,  8.83s/it]"
     ]
    },
    {
     "name": "stdout",
     "output_type": "stream",
     "text": [
      "================\n",
      "Property: has blickets, Concept: snail\n",
      "WITHIN: -0.3726852536201477\n",
      "OUTSIDE: -0.2692669630050659\n",
      "================\n",
      "================\n",
      "Property: has feps, Concept: hippo\n",
      "WITHIN: -0.25362643599510193\n",
      "OUTSIDE: -0.2873065769672394\n",
      "================\n",
      "================\n",
      "Property: has feps, Concept: dolphin\n",
      "WITHIN: -0.21376946568489075\n",
      "OUTSIDE: -0.4009130299091339\n",
      "================\n",
      "================\n",
      "Property: has feps, Concept: whale\n",
      "WITHIN: -0.13076657056808472\n",
      "OUTSIDE: -0.29630735516548157\n",
      "================\n",
      "================\n",
      "Property: has feps, Concept: turtle\n",
      "WITHIN: -0.12862540781497955\n",
      "OUTSIDE: -0.3491913676261902\n",
      "================\n",
      "================\n",
      "Property: has feps, Concept: slug\n",
      "WITHIN: -0.44317492842674255\n",
      "OUTSIDE: -0.4034351706504822\n",
      "================\n"
     ]
    },
    {
     "name": "stderr",
     "output_type": "stream",
     "text": [
      "\r",
      " 75%|█████████████████████████████████▊           | 6/8 [00:53<00:17,  8.64s/it]"
     ]
    },
    {
     "name": "stdout",
     "output_type": "stream",
     "text": [
      "================\n",
      "Property: has feps, Concept: snail\n",
      "WITHIN: -0.6141237020492554\n",
      "OUTSIDE: -0.4201323091983795\n",
      "================\n",
      "================\n",
      "Property: is a wug, Concept: hippo\n",
      "WITHIN: -0.6722394824028015\n",
      "OUTSIDE: -1.026026725769043\n",
      "================\n",
      "================\n",
      "Property: is a wug, Concept: dolphin\n",
      "WITHIN: -0.6432843208312988\n",
      "OUTSIDE: -1.0705335140228271\n",
      "================\n",
      "================\n",
      "Property: is a wug, Concept: whale\n",
      "WITHIN: -0.5297881960868835\n",
      "OUTSIDE: -1.0661342144012451\n",
      "================\n",
      "================\n",
      "Property: is a wug, Concept: turtle\n",
      "WITHIN: -0.5506799817085266\n",
      "OUTSIDE: -0.7387670278549194\n",
      "================\n",
      "================\n",
      "Property: is a wug, Concept: slug\n",
      "WITHIN: -0.6115798950195312\n",
      "OUTSIDE: -0.5791271924972534\n",
      "================\n"
     ]
    },
    {
     "name": "stderr",
     "output_type": "stream",
     "text": [
      "\r",
      " 88%|███████████████████████████████████████▍     | 7/8 [01:02<00:08,  8.75s/it]"
     ]
    },
    {
     "name": "stdout",
     "output_type": "stream",
     "text": [
      "================\n",
      "Property: is a wug, Concept: snail\n",
      "WITHIN: -0.48409777879714966\n",
      "OUTSIDE: -0.5010499954223633\n",
      "================\n",
      "================\n",
      "Property: is a tove, Concept: hippo\n",
      "WITHIN: -0.4382702708244324\n",
      "OUTSIDE: -0.47678008675575256\n",
      "================\n",
      "================\n",
      "Property: is a tove, Concept: dolphin\n",
      "WITHIN: -0.7821465134620667\n",
      "OUTSIDE: -0.7599035501480103\n",
      "================\n",
      "================\n",
      "Property: is a tove, Concept: whale\n",
      "WITHIN: -0.5588192343711853\n",
      "OUTSIDE: -0.603168785572052\n",
      "================\n",
      "================\n",
      "Property: is a tove, Concept: turtle\n",
      "WITHIN: -0.9380528926849365\n",
      "OUTSIDE: -0.981831431388855\n",
      "================\n",
      "================\n",
      "Property: is a tove, Concept: slug\n",
      "WITHIN: -0.5391983985900879\n",
      "OUTSIDE: -0.6891608834266663\n",
      "================\n"
     ]
    },
    {
     "name": "stderr",
     "output_type": "stream",
     "text": [
      "100%|█████████████████████████████████████████████| 8/8 [01:11<00:00,  8.88s/it]\n"
     ]
    },
    {
     "name": "stdout",
     "output_type": "stream",
     "text": [
      "================\n",
      "Property: is a tove, Concept: snail\n",
      "WITHIN: -0.41993221640586853\n",
      "OUTSIDE: -0.5185600519180298\n",
      "================\n"
     ]
    },
    {
     "name": "stderr",
     "output_type": "stream",
     "text": [
      "\r",
      "  0%|                                                     | 0/8 [00:00<?, ?it/s]"
     ]
    },
    {
     "name": "stdout",
     "output_type": "stream",
     "text": [
      "================\n",
      "Property: can dax, Concept: hippo\n",
      "WITHIN: -0.16249580681324005\n",
      "OUTSIDE: -0.18184415996074677\n",
      "================\n",
      "================\n",
      "Property: can dax, Concept: dolphin\n",
      "WITHIN: -0.10372846573591232\n",
      "OUTSIDE: -0.38194942474365234\n",
      "================\n",
      "================\n",
      "Property: can dax, Concept: whale\n",
      "WITHIN: -0.06434012204408646\n",
      "OUTSIDE: -0.18630602955818176\n",
      "================\n",
      "================\n",
      "Property: can dax, Concept: turtle\n",
      "WITHIN: -0.052968841046094894\n",
      "OUTSIDE: -0.20196281373500824\n",
      "================\n",
      "================\n",
      "Property: can dax, Concept: slug\n",
      "WITHIN: -0.2405993640422821\n",
      "OUTSIDE: -0.11484180390834808\n",
      "================\n"
     ]
    },
    {
     "name": "stderr",
     "output_type": "stream",
     "text": [
      "\r",
      " 12%|█████▋                                       | 1/8 [00:18<02:06, 18.12s/it]"
     ]
    },
    {
     "name": "stdout",
     "output_type": "stream",
     "text": [
      "================\n",
      "Property: can dax, Concept: snail\n",
      "WITHIN: -0.25929325819015503\n",
      "OUTSIDE: -0.14210231602191925\n",
      "================\n",
      "================\n",
      "Property: can fep, Concept: hippo\n",
      "WITHIN: -0.28838905692100525\n",
      "OUTSIDE: -0.49621501564979553\n",
      "================\n",
      "================\n",
      "Property: can fep, Concept: dolphin\n",
      "WITHIN: -0.27450132369995117\n",
      "OUTSIDE: -0.6489349603652954\n",
      "================\n",
      "================\n",
      "Property: can fep, Concept: whale\n",
      "WITHIN: -0.2212708741426468\n",
      "OUTSIDE: -0.5402118563652039\n",
      "================\n",
      "================\n",
      "Property: can fep, Concept: turtle\n",
      "WITHIN: -0.19143438339233398\n",
      "OUTSIDE: -0.32124900817871094\n",
      "================\n",
      "================\n",
      "Property: can fep, Concept: slug\n",
      "WITHIN: -0.25632157921791077\n",
      "OUTSIDE: -0.27023494243621826\n",
      "================\n"
     ]
    },
    {
     "name": "stderr",
     "output_type": "stream",
     "text": [
      "\r",
      " 25%|███████████▎                                 | 2/8 [00:27<01:16, 12.77s/it]"
     ]
    },
    {
     "name": "stdout",
     "output_type": "stream",
     "text": [
      "================\n",
      "Property: can fep, Concept: snail\n",
      "WITHIN: -0.536693274974823\n",
      "OUTSIDE: -0.5675437450408936\n",
      "================\n",
      "================\n",
      "Property: is vorpal, Concept: hippo\n",
      "WITHIN: -0.2186117023229599\n",
      "OUTSIDE: -0.29048487544059753\n",
      "================\n",
      "================\n",
      "Property: is vorpal, Concept: dolphin\n",
      "WITHIN: -0.15900728106498718\n",
      "OUTSIDE: -0.4905911982059479\n",
      "================\n",
      "================\n",
      "Property: is vorpal, Concept: whale\n",
      "WITHIN: -0.1809433549642563\n",
      "OUTSIDE: -0.5078689455986023\n",
      "================\n",
      "================\n",
      "Property: is vorpal, Concept: turtle\n",
      "WITHIN: -0.11700406670570374\n",
      "OUTSIDE: -0.32704970240592957\n",
      "================\n",
      "================\n",
      "Property: is vorpal, Concept: slug\n",
      "WITHIN: -0.3127433955669403\n",
      "OUTSIDE: -0.3517211377620697\n",
      "================\n"
     ]
    },
    {
     "name": "stderr",
     "output_type": "stream",
     "text": [
      "\r",
      " 38%|████████████████▉                            | 3/8 [00:36<00:55, 11.07s/it]"
     ]
    },
    {
     "name": "stdout",
     "output_type": "stream",
     "text": [
      "================\n",
      "Property: is vorpal, Concept: snail\n",
      "WITHIN: -0.41223907470703125\n",
      "OUTSIDE: -0.5278732776641846\n",
      "================\n",
      "================\n",
      "Property: is mimsy, Concept: hippo\n",
      "WITHIN: -1.1228119134902954\n",
      "OUTSIDE: -0.9421111345291138\n",
      "================\n",
      "================\n",
      "Property: is mimsy, Concept: dolphin\n",
      "WITHIN: -0.39284297823905945\n",
      "OUTSIDE: -0.41919803619384766\n",
      "================\n",
      "================\n",
      "Property: is mimsy, Concept: whale\n",
      "WITHIN: -0.45108234882354736\n",
      "OUTSIDE: -0.4693239629268646\n",
      "================\n",
      "================\n",
      "Property: is mimsy, Concept: turtle\n",
      "WITHIN: -0.3681305944919586\n",
      "OUTSIDE: -0.46273425221443176\n",
      "================\n",
      "================\n",
      "Property: is mimsy, Concept: slug\n",
      "WITHIN: -0.2344718724489212\n",
      "OUTSIDE: -0.3156076669692993\n",
      "================\n"
     ]
    },
    {
     "name": "stderr",
     "output_type": "stream",
     "text": [
      "\r",
      " 50%|██████████████████████▌                      | 4/8 [00:45<00:41, 10.45s/it]"
     ]
    },
    {
     "name": "stdout",
     "output_type": "stream",
     "text": [
      "================\n",
      "Property: is mimsy, Concept: snail\n",
      "WITHIN: -0.60300213098526\n",
      "OUTSIDE: -0.8815634250640869\n",
      "================\n",
      "================\n",
      "Property: has blickets, Concept: hippo\n",
      "WITHIN: -0.37614020705223083\n",
      "OUTSIDE: -0.5044323205947876\n",
      "================\n",
      "================\n",
      "Property: has blickets, Concept: dolphin\n",
      "WITHIN: -0.284317284822464\n",
      "OUTSIDE: -0.48665231466293335\n",
      "================\n",
      "================\n",
      "Property: has blickets, Concept: whale\n",
      "WITHIN: -0.29476863145828247\n",
      "OUTSIDE: -0.48099276423454285\n",
      "================\n",
      "================\n",
      "Property: has blickets, Concept: turtle\n",
      "WITHIN: -0.4356675148010254\n",
      "OUTSIDE: -0.5918973088264465\n",
      "================\n",
      "================\n",
      "Property: has blickets, Concept: slug\n",
      "WITHIN: -0.44234779477119446\n",
      "OUTSIDE: -0.49714693427085876\n",
      "================\n"
     ]
    },
    {
     "name": "stderr",
     "output_type": "stream",
     "text": [
      "\r",
      " 62%|████████████████████████████▏                | 5/8 [00:55<00:30, 10.11s/it]"
     ]
    },
    {
     "name": "stdout",
     "output_type": "stream",
     "text": [
      "================\n",
      "Property: has blickets, Concept: snail\n",
      "WITHIN: -0.38083329796791077\n",
      "OUTSIDE: -0.44761717319488525\n",
      "================\n",
      "================\n",
      "Property: has feps, Concept: hippo\n",
      "WITHIN: -0.17323075234889984\n",
      "OUTSIDE: -0.2672719955444336\n",
      "================\n",
      "================\n",
      "Property: has feps, Concept: dolphin\n",
      "WITHIN: -0.15616029500961304\n",
      "OUTSIDE: -0.5953464508056641\n",
      "================\n",
      "================\n",
      "Property: has feps, Concept: whale\n",
      "WITHIN: -0.1223616674542427\n",
      "OUTSIDE: -0.3941670060157776\n",
      "================\n",
      "================\n",
      "Property: has feps, Concept: turtle\n",
      "WITHIN: -0.14908047020435333\n",
      "OUTSIDE: -0.4600890278816223\n",
      "================\n",
      "================\n",
      "Property: has feps, Concept: slug\n",
      "WITHIN: -0.43292492628097534\n",
      "OUTSIDE: -0.5613630414009094\n",
      "================\n"
     ]
    },
    {
     "name": "stderr",
     "output_type": "stream",
     "text": [
      "\r",
      " 75%|█████████████████████████████████▊           | 6/8 [01:04<00:19,  9.74s/it]"
     ]
    },
    {
     "name": "stdout",
     "output_type": "stream",
     "text": [
      "================\n",
      "Property: has feps, Concept: snail\n",
      "WITHIN: -0.5539553165435791\n",
      "OUTSIDE: -0.6969966292381287\n",
      "================\n",
      "================\n",
      "Property: is a wug, Concept: hippo\n",
      "WITHIN: -0.6437742114067078\n",
      "OUTSIDE: -0.6605854630470276\n",
      "================\n",
      "================\n",
      "Property: is a wug, Concept: dolphin\n",
      "WITHIN: -0.211488276720047\n",
      "OUTSIDE: -0.4535703659057617\n",
      "================\n",
      "================\n",
      "Property: is a wug, Concept: whale\n",
      "WITHIN: -0.3569098114967346\n",
      "OUTSIDE: -0.7322244644165039\n",
      "================\n",
      "================\n",
      "Property: is a wug, Concept: turtle\n",
      "WITHIN: -0.20191611349582672\n",
      "OUTSIDE: -0.5160890817642212\n",
      "================\n",
      "================\n",
      "Property: is a wug, Concept: slug\n",
      "WITHIN: -0.4805547893047333\n",
      "OUTSIDE: -0.5127122402191162\n",
      "================\n"
     ]
    },
    {
     "name": "stderr",
     "output_type": "stream",
     "text": [
      "\r",
      " 88%|███████████████████████████████████████▍     | 7/8 [01:13<00:09,  9.74s/it]"
     ]
    },
    {
     "name": "stdout",
     "output_type": "stream",
     "text": [
      "================\n",
      "Property: is a wug, Concept: snail\n",
      "WITHIN: -0.479397714138031\n",
      "OUTSIDE: -0.4630643427371979\n",
      "================\n",
      "================\n",
      "Property: is a tove, Concept: hippo\n",
      "WITHIN: -0.8935640454292297\n",
      "OUTSIDE: -1.027653455734253\n",
      "================\n",
      "================\n",
      "Property: is a tove, Concept: dolphin\n",
      "WITHIN: -0.5760334134101868\n",
      "OUTSIDE: -0.4828621447086334\n",
      "================\n",
      "================\n",
      "Property: is a tove, Concept: whale\n",
      "WITHIN: -0.7077218890190125\n",
      "OUTSIDE: -0.5054563879966736\n",
      "================\n",
      "================\n",
      "Property: is a tove, Concept: turtle\n",
      "WITHIN: -0.3891233503818512\n",
      "OUTSIDE: -0.4104115664958954\n",
      "================\n",
      "================\n",
      "Property: is a tove, Concept: slug\n",
      "WITHIN: -0.5650319457054138\n",
      "OUTSIDE: -1.0434907674789429\n",
      "================\n"
     ]
    },
    {
     "name": "stderr",
     "output_type": "stream",
     "text": [
      "100%|█████████████████████████████████████████████| 8/8 [01:24<00:00, 10.53s/it]\n"
     ]
    },
    {
     "name": "stdout",
     "output_type": "stream",
     "text": [
      "================\n",
      "Property: is a tove, Concept: snail\n",
      "WITHIN: -0.7679316401481628\n",
      "OUTSIDE: -1.1757628917694092\n",
      "================\n"
     ]
    },
    {
     "name": "stderr",
     "output_type": "stream",
     "text": [
      "\r",
      "  0%|                                                     | 0/8 [00:00<?, ?it/s]"
     ]
    },
    {
     "name": "stdout",
     "output_type": "stream",
     "text": [
      "================\n",
      "Property: can dax, Concept: hippo\n",
      "WITHIN: -0.2912593185901642\n",
      "OUTSIDE: -0.36328044533729553\n",
      "================\n",
      "================\n",
      "Property: can dax, Concept: dolphin\n",
      "WITHIN: -0.20198513567447662\n",
      "OUTSIDE: -0.6218758821487427\n",
      "================\n",
      "================\n",
      "Property: can dax, Concept: whale\n",
      "WITHIN: -0.15332619845867157\n",
      "OUTSIDE: -0.44436460733413696\n",
      "================\n",
      "================\n",
      "Property: can dax, Concept: turtle\n",
      "WITHIN: -0.11840032786130905\n",
      "OUTSIDE: -0.37664368748664856\n",
      "================\n",
      "================\n",
      "Property: can dax, Concept: slug\n",
      "WITHIN: -0.6026671528816223\n",
      "OUTSIDE: -0.588070809841156\n",
      "================\n"
     ]
    },
    {
     "name": "stderr",
     "output_type": "stream",
     "text": [
      "\r",
      " 12%|█████▋                                       | 1/8 [00:18<02:11, 18.73s/it]"
     ]
    },
    {
     "name": "stdout",
     "output_type": "stream",
     "text": [
      "================\n",
      "Property: can dax, Concept: snail\n",
      "WITHIN: -0.531123161315918\n",
      "OUTSIDE: -0.6096876859664917\n",
      "================\n",
      "================\n",
      "Property: can fep, Concept: hippo\n",
      "WITHIN: -0.20213991403579712\n",
      "OUTSIDE: -0.15986976027488708\n",
      "================\n",
      "================\n",
      "Property: can fep, Concept: dolphin\n",
      "WITHIN: -0.18340624868869781\n",
      "OUTSIDE: -0.3833600878715515\n",
      "================\n",
      "================\n",
      "Property: can fep, Concept: whale\n",
      "WITHIN: -0.11055050790309906\n",
      "OUTSIDE: -0.26602157950401306\n",
      "================\n",
      "================\n",
      "Property: can fep, Concept: turtle\n",
      "WITHIN: -0.09495744109153748\n",
      "OUTSIDE: -0.38472774624824524\n",
      "================\n",
      "================\n",
      "Property: can fep, Concept: slug\n",
      "WITHIN: -0.4273010790348053\n",
      "OUTSIDE: -0.3255065381526947\n",
      "================\n"
     ]
    },
    {
     "name": "stderr",
     "output_type": "stream",
     "text": [
      "\r",
      " 25%|███████████▎                                 | 2/8 [00:28<01:20, 13.36s/it]"
     ]
    },
    {
     "name": "stdout",
     "output_type": "stream",
     "text": [
      "================\n",
      "Property: can fep, Concept: snail\n",
      "WITHIN: -0.3352864384651184\n",
      "OUTSIDE: -0.24835637211799622\n",
      "================\n",
      "================\n",
      "Property: is vorpal, Concept: hippo\n",
      "WITHIN: -0.3420599400997162\n",
      "OUTSIDE: -0.4299990236759186\n",
      "================\n",
      "================\n",
      "Property: is vorpal, Concept: dolphin\n",
      "WITHIN: -0.2887002229690552\n",
      "OUTSIDE: -1.0413166284561157\n",
      "================\n",
      "================\n",
      "Property: is vorpal, Concept: whale\n",
      "WITHIN: -0.19998672604560852\n",
      "OUTSIDE: -0.5628708600997925\n",
      "================\n",
      "================\n",
      "Property: is vorpal, Concept: turtle\n",
      "WITHIN: -0.1287686675786972\n",
      "OUTSIDE: -0.6333715319633484\n",
      "================\n",
      "================\n",
      "Property: is vorpal, Concept: slug\n",
      "WITHIN: -0.3037509024143219\n",
      "OUTSIDE: -0.2532116174697876\n",
      "================\n"
     ]
    },
    {
     "name": "stderr",
     "output_type": "stream",
     "text": [
      "\r",
      " 38%|████████████████▉                            | 3/8 [00:38<00:59, 11.92s/it]"
     ]
    },
    {
     "name": "stdout",
     "output_type": "stream",
     "text": [
      "================\n",
      "Property: is vorpal, Concept: snail\n",
      "WITHIN: -0.3447228968143463\n",
      "OUTSIDE: -0.3545135259628296\n",
      "================\n",
      "================\n",
      "Property: is mimsy, Concept: hippo\n",
      "WITHIN: -0.4576992094516754\n",
      "OUTSIDE: -0.34206873178482056\n",
      "================\n",
      "================\n",
      "Property: is mimsy, Concept: dolphin\n",
      "WITHIN: -0.2830527126789093\n",
      "OUTSIDE: -0.6681188344955444\n",
      "================\n",
      "================\n",
      "Property: is mimsy, Concept: whale\n",
      "WITHIN: -0.13195179402828217\n",
      "OUTSIDE: -0.34747716784477234\n",
      "================\n",
      "================\n",
      "Property: is mimsy, Concept: turtle\n",
      "WITHIN: -0.16194216907024384\n",
      "OUTSIDE: -0.688082218170166\n",
      "================\n",
      "================\n",
      "Property: is mimsy, Concept: slug\n",
      "WITHIN: -0.5331607460975647\n",
      "OUTSIDE: -0.4854370355606079\n",
      "================\n"
     ]
    },
    {
     "name": "stderr",
     "output_type": "stream",
     "text": [
      "\r",
      " 50%|██████████████████████▌                      | 4/8 [00:49<00:45, 11.35s/it]"
     ]
    },
    {
     "name": "stdout",
     "output_type": "stream",
     "text": [
      "================\n",
      "Property: is mimsy, Concept: snail\n",
      "WITHIN: -0.3686971068382263\n",
      "OUTSIDE: -0.32454681396484375\n",
      "================\n",
      "================\n",
      "Property: has blickets, Concept: hippo\n",
      "WITHIN: -1.1929208040237427\n",
      "OUTSIDE: -1.5388249158859253\n",
      "================\n",
      "================\n",
      "Property: has blickets, Concept: dolphin\n",
      "WITHIN: -0.3156082332134247\n",
      "OUTSIDE: -0.7152280211448669\n",
      "================\n",
      "================\n",
      "Property: has blickets, Concept: whale\n",
      "WITHIN: -0.2687605023384094\n",
      "OUTSIDE: -0.48653101921081543\n",
      "================\n",
      "================\n",
      "Property: has blickets, Concept: turtle\n",
      "WITHIN: -0.4009265601634979\n",
      "OUTSIDE: -0.7243190407752991\n",
      "================\n",
      "================\n",
      "Property: has blickets, Concept: slug\n",
      "WITHIN: -0.6841937899589539\n",
      "OUTSIDE: -0.26470398902893066\n",
      "================\n"
     ]
    },
    {
     "name": "stderr",
     "output_type": "stream",
     "text": [
      "\r",
      " 62%|████████████████████████████▏                | 5/8 [00:59<00:33, 11.09s/it]"
     ]
    },
    {
     "name": "stdout",
     "output_type": "stream",
     "text": [
      "================\n",
      "Property: has blickets, Concept: snail\n",
      "WITHIN: -0.5579094886779785\n",
      "OUTSIDE: -0.3215716779232025\n",
      "================\n",
      "================\n",
      "Property: has feps, Concept: hippo\n",
      "WITHIN: -0.24779553711414337\n",
      "OUTSIDE: -0.2791305184364319\n",
      "================\n",
      "================\n",
      "Property: has feps, Concept: dolphin\n",
      "WITHIN: -0.26484814286231995\n",
      "OUTSIDE: -0.5705658793449402\n",
      "================\n",
      "================\n",
      "Property: has feps, Concept: whale\n",
      "WITHIN: -0.14210273325443268\n",
      "OUTSIDE: -0.3602270185947418\n",
      "================\n",
      "================\n",
      "Property: has feps, Concept: turtle\n",
      "WITHIN: -0.07202885299921036\n",
      "OUTSIDE: -0.26510971784591675\n",
      "================\n",
      "================\n",
      "Property: has feps, Concept: slug\n",
      "WITHIN: -0.34253624081611633\n",
      "OUTSIDE: -0.3206658661365509\n",
      "================\n"
     ]
    },
    {
     "name": "stderr",
     "output_type": "stream",
     "text": [
      "\r",
      " 75%|█████████████████████████████████▊           | 6/8 [01:09<00:21, 10.73s/it]"
     ]
    },
    {
     "name": "stdout",
     "output_type": "stream",
     "text": [
      "================\n",
      "Property: has feps, Concept: snail\n",
      "WITHIN: -0.4503951072692871\n",
      "OUTSIDE: -0.4711483418941498\n",
      "================\n",
      "================\n",
      "Property: is a wug, Concept: hippo\n",
      "WITHIN: -0.623667299747467\n",
      "OUTSIDE: -0.5807585120201111\n",
      "================\n",
      "================\n",
      "Property: is a wug, Concept: dolphin\n",
      "WITHIN: -0.19166520237922668\n",
      "OUTSIDE: -0.4693869650363922\n",
      "================\n",
      "================\n",
      "Property: is a wug, Concept: whale\n",
      "WITHIN: -0.18393288552761078\n",
      "OUTSIDE: -0.4394706189632416\n",
      "================\n",
      "================\n",
      "Property: is a wug, Concept: turtle\n",
      "WITHIN: -0.12631168961524963\n",
      "OUTSIDE: -0.4708830714225769\n",
      "================\n",
      "================\n",
      "Property: is a wug, Concept: slug\n",
      "WITHIN: -1.6881883144378662\n",
      "OUTSIDE: -1.8395434617996216\n",
      "================\n"
     ]
    },
    {
     "name": "stderr",
     "output_type": "stream",
     "text": [
      "\r",
      " 88%|███████████████████████████████████████▍     | 7/8 [01:19<00:10, 10.59s/it]"
     ]
    },
    {
     "name": "stdout",
     "output_type": "stream",
     "text": [
      "================\n",
      "Property: is a wug, Concept: snail\n",
      "WITHIN: -0.36286428570747375\n",
      "OUTSIDE: -0.46361976861953735\n",
      "================\n",
      "================\n",
      "Property: is a tove, Concept: hippo\n",
      "WITHIN: -0.411854088306427\n",
      "OUTSIDE: -0.3129456341266632\n",
      "================\n",
      "================\n",
      "Property: is a tove, Concept: dolphin\n",
      "WITHIN: -0.248368039727211\n",
      "OUTSIDE: -0.49957016110420227\n",
      "================\n",
      "================\n",
      "Property: is a tove, Concept: whale\n",
      "WITHIN: -0.2971685826778412\n",
      "OUTSIDE: -0.4817489981651306\n",
      "================\n",
      "================\n",
      "Property: is a tove, Concept: turtle\n",
      "WITHIN: -0.5342074036598206\n",
      "OUTSIDE: -1.1717466115951538\n",
      "================\n",
      "================\n",
      "Property: is a tove, Concept: slug\n",
      "WITHIN: -0.5342559814453125\n",
      "OUTSIDE: -0.5726107954978943\n",
      "================\n"
     ]
    },
    {
     "name": "stderr",
     "output_type": "stream",
     "text": [
      "100%|█████████████████████████████████████████████| 8/8 [01:30<00:00, 11.33s/it]"
     ]
    },
    {
     "name": "stdout",
     "output_type": "stream",
     "text": [
      "================\n",
      "Property: is a tove, Concept: snail\n",
      "WITHIN: -0.3549792468547821\n",
      "OUTSIDE: -0.40134039521217346\n",
      "================\n"
     ]
    },
    {
     "name": "stderr",
     "output_type": "stream",
     "text": [
      "\n"
     ]
    }
   ],
   "source": [
    "results = defaultdict(dict)\n",
    "\n",
    "for MODEL in MODELS:\n",
    "    result = {'within': [], 'outside': []}\n",
    "    for prop in tqdm(PROPERTIES):\n",
    "        \n",
    "        for stimulus in stimuli:\n",
    "            reasoner = Reasoner(f'../../induction/checkpoints/finetuned_models/{MODEL}',\n",
    "                    learning_rate = model_lr[MODEL], \n",
    "                    lexicon = world.lexicon,\n",
    "                    device = DEVICE)\n",
    "            \n",
    "            concept, within, outside = stimulus\n",
    "            \n",
    "            within_stimuli = reasoner.prepare_stimuli(within, prop)\n",
    "            outside_stimuli = reasoner.prepare_stimuli(outside, prop)\n",
    "            adaptation = reasoner.prepare_stimuli([concept], prop)\n",
    "            \n",
    "            reasoner.adapt(adaptation, labels = torch.tensor([1]))\n",
    "            \n",
    "            generalization_within = reasoner.generalize(within_stimuli)[:,1].mean().item()\n",
    "            generalization_outside = reasoner.generalize(outside_stimuli)[:,1].mean().item()\n",
    "            \n",
    "            print('================')\n",
    "            print(f'Property: {prop}, Concept: {concept}')\n",
    "            print(f'WITHIN: {generalization_within}')\n",
    "            print(f'OUTSIDE: {generalization_outside}')\n",
    "            print('================')\n",
    "            \n",
    "            result['within'].append(generalization_within)\n",
    "            result['outside'].append(generalization_outside)\n",
    "            \n",
    "    results[MODEL] = result\n",
    "            "
   ]
  },
  {
   "cell_type": "code",
   "execution_count": 11,
   "id": "b773e523",
   "metadata": {},
   "outputs": [
    {
     "name": "stdout",
     "output_type": "stream",
     "text": [
      "MODEL: axxl-property\n",
      "WITHIN: -0.45044490694999695 (+= 0.23141267895698547)\n",
      "OUTSIDE: -0.548091471195221 (+= 0.2752586603164673)\n",
      "MODEL: bl-property\n",
      "WITHIN: -0.36042001843452454 (+= 0.22106441855430603)\n",
      "OUTSIDE: -0.5001537203788757 (+= 0.22716650366783142)\n",
      "MODEL: rl-property\n",
      "WITHIN: -0.360299676656723 (+= 0.2796356678009033)\n",
      "OUTSIDE: -0.5192589163780212 (+= 0.3136405348777771)\n"
     ]
    }
   ],
   "source": [
    "for k, v in results.items():\n",
    "    print(f\"MODEL: {k}\")\n",
    "    print(f\"WITHIN: {torch.tensor(v['within']).mean()} (+= {torch.tensor(v['within']).std()})\")\n",
    "    print(f\"OUTSIDE: {torch.tensor(v['outside']).mean()} (+= {torch.tensor(v['outside']).std()})\")"
   ]
  },
  {
   "cell_type": "code",
   "execution_count": 12,
   "id": "a52d9f19",
   "metadata": {},
   "outputs": [],
   "source": [
    "with open(\"../data/results/tease_apart.csv\", \"w\") as f:\n",
    "    writer = csv.writer(f)\n",
    "    writer.writerow(['model', 'within', 'outside'])\n",
    "    for k,v in results.items():\n",
    "        for w, o in zip(v['within'], v['outside']):\n",
    "            writer.writerow([k, w, o])\n",
    "#     print(\"=\" * 80)\n",
    "#     print(f\"a <- c({', '.join([str(x) for x in v['within']])})\")\n",
    "#     print(f\"b <- c({', '.join([str(x) for x in v['outside']])})\")\n",
    "#     print('t.test(a, b, paired = TRUE)')"
   ]
  },
  {
   "cell_type": "code",
   "execution_count": 5,
   "id": "5c17f4e7",
   "metadata": {},
   "outputs": [],
   "source": [
    "PROPERTY = 'has feps'\n",
    "CONCEPT = 'dolphin'\n",
    "\n",
    "adaptation = reasoner.prepare_stimuli([CONCEPT], PROPERTY)\n",
    "reasoner.adapt(adaptation, labels = torch.tensor([1]))\n",
    "\n",
    "\n",
    "# birds = [c for c in world.taxonomy['bird.n.01'].descendants()]\n",
    "mammals = [c for c in world.taxonomy['mammal.n.01'].descendants() if c != 'dolphin']\n",
    "fish = [c for c in world.taxonomy['fish.n.01'].descendants() if c != 'dolphin']\n",
    "\n",
    "mammal_stimuli = reasoner.prepare_stimuli(mammals, PROPERTY)\n",
    "fish_stimuli = reasoner.prepare_stimuli(fish, PROPERTY)\n",
    "# bird_stimuli = reasoner.prepare_stimuli(birds, PROPERTY)"
   ]
  },
  {
   "cell_type": "code",
   "execution_count": 6,
   "id": "080a0e7b",
   "metadata": {},
   "outputs": [
    {
     "data": {
      "text/plain": [
       "tensor(-0.2595)"
      ]
     },
     "execution_count": 6,
     "metadata": {},
     "output_type": "execute_result"
    }
   ],
   "source": [
    "reasoner.generalize(mammal_stimuli)[:,1].mean()"
   ]
  },
  {
   "cell_type": "code",
   "execution_count": 7,
   "id": "a5915415",
   "metadata": {},
   "outputs": [
    {
     "data": {
      "text/plain": [
       "tensor(-0.5563)"
      ]
     },
     "execution_count": 7,
     "metadata": {},
     "output_type": "execute_result"
    }
   ],
   "source": [
    "reasoner.generalize(fish_stimuli)[:,1].mean()"
   ]
  },
  {
   "cell_type": "code",
   "execution_count": 5,
   "id": "d9fd8100",
   "metadata": {},
   "outputs": [],
   "source": [
    "PROPERTY = 'has feps'\n",
    "\n",
    "adaptation = reasoner.prepare_stimuli([\"dolphin\"], PROPERTY)\n",
    "reasoner.adapt(adaptation, labels = torch.tensor([1]))\n",
    "\n",
    "\n",
    "mammals = [c for c in world.taxonomy['mammal.n.01'].descendants() if c != 'dolphin']\n",
    "fish = [c for c in world.taxonomy['fish.n.01'].descendants() if c != 'dolphin']\n",
    "\n",
    "mammal_stimuli = reasoner.prepare_stimuli(mammals, PROPERTY)\n",
    "fish_stimuli = reasoner.prepare_stimuli(fish, PROPERTY)"
   ]
  },
  {
   "cell_type": "code",
   "execution_count": 6,
   "id": "502797a5",
   "metadata": {},
   "outputs": [
    {
     "data": {
      "text/plain": [
       "tensor(-0.1707)"
      ]
     },
     "execution_count": 6,
     "metadata": {},
     "output_type": "execute_result"
    }
   ],
   "source": [
    "reasoner.generalize(mammal_stimuli)[:, 1].mean()"
   ]
  },
  {
   "cell_type": "code",
   "execution_count": 7,
   "id": "22a5f0d5",
   "metadata": {},
   "outputs": [
    {
     "data": {
      "text/plain": [
       "tensor(-0.6013)"
      ]
     },
     "execution_count": 7,
     "metadata": {},
     "output_type": "execute_result"
    }
   ],
   "source": [
    "reasoner.generalize(fish_stimuli)[:, 1].mean()"
   ]
  },
  {
   "cell_type": "code",
   "execution_count": 15,
   "id": "06e7a4b5",
   "metadata": {},
   "outputs": [
    {
     "data": {
      "text/plain": [
       "0.27070605754852295"
      ]
     },
     "execution_count": 15,
     "metadata": {},
     "output_type": "execute_result"
    }
   ],
   "source": [
    "world.similarity(['dolphin'], mammals).mean().item()"
   ]
  },
  {
   "cell_type": "code",
   "execution_count": 16,
   "id": "58f25aa5",
   "metadata": {},
   "outputs": [
    {
     "data": {
      "text/plain": [
       "0.30332738161087036"
      ]
     },
     "execution_count": 16,
     "metadata": {},
     "output_type": "execute_result"
    }
   ],
   "source": [
    "world.similarity(['dolphin'], fish).mean().item()"
   ]
  },
  {
   "cell_type": "code",
   "execution_count": 5,
   "id": "17c9abe9",
   "metadata": {},
   "outputs": [],
   "source": [
    "def prepare_stimuli_prop(self, concepts, properties):\n",
    "    sentences = [f'{c} {p}.' for c in concepts for p in properties]\n",
    "    print(sentences)\n",
    "    encoded = self.tokenizer(sentences, return_tensors = 'pt', padding = True)\n",
    "    \n",
    "    return encoded"
   ]
  },
  {
   "cell_type": "code",
   "execution_count": 10,
   "id": "8c1c0df3",
   "metadata": {},
   "outputs": [
    {
     "name": "stdout",
     "output_type": "stream",
     "text": [
      "['a bird is an animal.', 'a bird is a mammal.', 'a bird is an ape.', 'a bird can breathe.', 'a bird can grow.', 'a bird is a living thing.', 'a bird is a plant.', 'a bird is a fish.']\n"
     ]
    }
   ],
   "source": [
    "properties = ['is an animal', 'is a mammal', 'is an ape', 'can breathe', 'can grow', 'is a living thing', 'is a plant', 'is a fish']\n",
    "\n",
    "stimuli = prepare_stimuli_prop(reasoner, ['a bird'], properties)"
   ]
  },
  {
   "cell_type": "code",
   "execution_count": 11,
   "id": "ad9c7a7a",
   "metadata": {},
   "outputs": [
    {
     "data": {
      "text/plain": [
       "tensor([0.9936, 0.0117, 0.0059, 0.9947, 0.9946, 0.9874, 0.0046, 0.0063])"
      ]
     },
     "execution_count": 11,
     "metadata": {},
     "output_type": "execute_result"
    }
   ],
   "source": [
    "reasoner.generalize(stimuli)[:,1].exp()"
   ]
  },
  {
   "cell_type": "code",
   "execution_count": 7,
   "id": "3ed64545",
   "metadata": {},
   "outputs": [
    {
     "name": "stdout",
     "output_type": "stream",
     "text": [
      "['a dax is a bird.']\n"
     ]
    }
   ],
   "source": [
    "PROPERTY = \"is a bird\"\n",
    "adaptation = prepare_stimuli_prop(reasoner, [\"a dax\"], [PROPERTY])\n",
    "reasoner.adapt(adaptation, labels = torch.tensor([1]))"
   ]
  },
  {
   "cell_type": "code",
   "execution_count": 8,
   "id": "2e6a6137",
   "metadata": {},
   "outputs": [
    {
     "name": "stdout",
     "output_type": "stream",
     "text": [
      "['a dax is an animal.', 'a dax is a mammal.', 'a dax is a bird.', 'a dax is an ape.', 'a dax can breathe.', 'a dax can grow.', 'a dax is a living thing.', 'a dax is a plant.', 'a dax is a fish.', 'a dax can fly.']\n"
     ]
    }
   ],
   "source": [
    "properties = ['is an animal', 'is a mammal', 'is a bird', 'is an ape', 'can breathe', 'can grow', 'is a living thing', 'is a plant', 'is a fish', 'can fly']\n",
    "\n",
    "stimuli = prepare_stimuli_prop(reasoner, ['a dax'], properties)"
   ]
  },
  {
   "cell_type": "code",
   "execution_count": 9,
   "id": "1869b6a2",
   "metadata": {},
   "outputs": [
    {
     "data": {
      "text/plain": [
       "tensor([[-4.4052, -0.0123],\n",
       "        [-2.5386, -0.0823],\n",
       "        [-3.4440, -0.0325],\n",
       "        [-3.1044, -0.0459],\n",
       "        [-4.6169, -0.0099],\n",
       "        [-4.8222, -0.0081],\n",
       "        [-3.4630, -0.0318],\n",
       "        [-1.9329, -0.1563],\n",
       "        [-1.0055, -0.4555],\n",
       "        [-3.3311, -0.0364]])"
      ]
     },
     "execution_count": 9,
     "metadata": {},
     "output_type": "execute_result"
    }
   ],
   "source": [
    "reasoner.generalize(stimuli)"
   ]
  },
  {
   "cell_type": "code",
   "execution_count": null,
   "id": "a4e42e02",
   "metadata": {},
   "outputs": [],
   "source": []
  }
 ],
 "metadata": {
  "kernelspec": {
   "display_name": "Python 3 (ipykernel)",
   "language": "python",
   "name": "python3"
  },
  "language_info": {
   "codemirror_mode": {
    "name": "ipython",
    "version": 3
   },
   "file_extension": ".py",
   "mimetype": "text/x-python",
   "name": "python",
   "nbconvert_exporter": "python",
   "pygments_lexer": "ipython3",
   "version": "3.8.12"
  }
 },
 "nbformat": 4,
 "nbformat_minor": 5
}
